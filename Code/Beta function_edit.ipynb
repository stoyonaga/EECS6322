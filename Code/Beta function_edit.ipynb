{
 "cells": [
  {
   "cell_type": "code",
   "execution_count": null,
   "metadata": {},
   "outputs": [],
   "source": [
    "\"\"\"\n",
    "This is the implementation of b(\\theta) defined by the paper appendix with some modifications due to\n",
    "a lack of details...\n",
    "\"\"\"\n",
    "class step_2_attention_lenet(nn.Module):\n",
    "  def __init__(self):\n",
    "    # Superconstructor to inherit nn.Module Properties\n",
    "    super(step_2_attention_lenet, self).__init__()\n",
    "   \n",
    "    self.conv1 = nn.conv2d()\n",
    "    self.relu = nn.ReLu()\n",
    "    self.conv2 = nn.conv2d()\n",
    "    \n",
    "\n",
    "\n",
    "  def forward(self, x):\n",
    "    x = self.conv1(x)\n",
    "    x = self.relu(x)\n",
    "    x = self.conv2(x)\n",
    "    x = self.relu(x)\n",
    "    x = F.softmax(self.conv1(x), dim = 2)\n",
    "    return x  \n",
    "  \n",
    "  def extract_subtile(sampled_tiles_image, h1, w1, h2, w2): #this is our helper function for sub-sampling \n",
    "    sub_tiles_image = []\n",
    "    for x in range(len(sampled_tiles_image)):\n",
    "      for y in range(len(sampled_tiles_image[0])):\n",
    "        current_tile = sampled_tiles_image[x][y]\n",
    "        new_tile = []\n",
    "        for w in range(h2):\n",
    "          for z in range(w2):\n",
    "            new_tile.append(current_tile[w][z]) #sub sampling by only looping through to h2 and w2\n",
    "\n",
    "  \n",
    "        sub_tiles_image.append(new_tile)\n",
    "\n",
    "\n",
    "    \n",
    "\n",
    "    return sampled_subtiles    \n",
    "                  \n",
    "\n",
    "\n",
    " "
   ]
  },
  {
   "cell_type": "markdown",
   "metadata": {},
   "source": []
  }
 ],
 "metadata": {
  "language_info": {
   "name": "python"
  }
 },
 "nbformat": 4,
 "nbformat_minor": 2
}
