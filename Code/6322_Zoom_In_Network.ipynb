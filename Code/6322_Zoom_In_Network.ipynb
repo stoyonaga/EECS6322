{
  "nbformat": 4,
  "nbformat_minor": 0,
  "metadata": {
    "colab": {
      "provenance": [],
      "collapsed_sections": [
        "JdwZ6IOm-MPx",
        "UqwafkwY-SaW",
        "5LrX-MciFoXX",
        "l7F6wRNLFyUA"
      ]
    },
    "kernelspec": {
      "name": "python3",
      "display_name": "Python 3"
    },
    "language_info": {
      "name": "python"
    }
  },
  "cells": [
    {
      "cell_type": "markdown",
      "source": [
        "# Environment Configuration"
      ],
      "metadata": {
        "id": "JdwZ6IOm-MPx"
      }
    },
    {
      "cell_type": "code",
      "execution_count": null,
      "metadata": {
        "colab": {
          "base_uri": "https://localhost:8080/"
        },
        "id": "uaLOyMDL98nx",
        "outputId": "33610635-23fa-4584-cc39-7768a9112f84"
      },
      "outputs": [
        {
          "output_type": "stream",
          "name": "stdout",
          "text": [
            "Requirement already satisfied: torch in /usr/local/lib/python3.10/dist-packages (2.2.1+cu121)\n",
            "Requirement already satisfied: filelock in /usr/local/lib/python3.10/dist-packages (from torch) (3.13.1)\n",
            "Requirement already satisfied: typing-extensions>=4.8.0 in /usr/local/lib/python3.10/dist-packages (from torch) (4.10.0)\n",
            "Requirement already satisfied: sympy in /usr/local/lib/python3.10/dist-packages (from torch) (1.12)\n",
            "Requirement already satisfied: networkx in /usr/local/lib/python3.10/dist-packages (from torch) (3.2.1)\n",
            "Requirement already satisfied: jinja2 in /usr/local/lib/python3.10/dist-packages (from torch) (3.1.3)\n",
            "Requirement already satisfied: fsspec in /usr/local/lib/python3.10/dist-packages (from torch) (2023.6.0)\n",
            "Collecting nvidia-cuda-nvrtc-cu12==12.1.105 (from torch)\n",
            "  Downloading nvidia_cuda_nvrtc_cu12-12.1.105-py3-none-manylinux1_x86_64.whl (23.7 MB)\n",
            "\u001b[2K     \u001b[90m━━━━━━━━━━━━━━━━━━━━━━━━━━━━━━━━━━━━━━━━\u001b[0m \u001b[32m23.7/23.7 MB\u001b[0m \u001b[31m20.5 MB/s\u001b[0m eta \u001b[36m0:00:00\u001b[0m\n",
            "\u001b[?25hCollecting nvidia-cuda-runtime-cu12==12.1.105 (from torch)\n",
            "  Downloading nvidia_cuda_runtime_cu12-12.1.105-py3-none-manylinux1_x86_64.whl (823 kB)\n",
            "\u001b[2K     \u001b[90m━━━━━━━━━━━━━━━━━━━━━━━━━━━━━━━━━━━━━━━━\u001b[0m \u001b[32m823.6/823.6 kB\u001b[0m \u001b[31m17.6 MB/s\u001b[0m eta \u001b[36m0:00:00\u001b[0m\n",
            "\u001b[?25hCollecting nvidia-cuda-cupti-cu12==12.1.105 (from torch)\n",
            "  Downloading nvidia_cuda_cupti_cu12-12.1.105-py3-none-manylinux1_x86_64.whl (14.1 MB)\n",
            "\u001b[2K     \u001b[90m━━━━━━━━━━━━━━━━━━━━━━━━━━━━━━━━━━━━━━━━\u001b[0m \u001b[32m14.1/14.1 MB\u001b[0m \u001b[31m34.5 MB/s\u001b[0m eta \u001b[36m0:00:00\u001b[0m\n",
            "\u001b[?25hCollecting nvidia-cudnn-cu12==8.9.2.26 (from torch)\n",
            "  Downloading nvidia_cudnn_cu12-8.9.2.26-py3-none-manylinux1_x86_64.whl (731.7 MB)\n",
            "\u001b[2K     \u001b[90m━━━━━━━━━━━━━━━━━━━━━━━━━━━━━━━━━━━━━━━━\u001b[0m \u001b[32m731.7/731.7 MB\u001b[0m \u001b[31m800.6 kB/s\u001b[0m eta \u001b[36m0:00:00\u001b[0m\n",
            "\u001b[?25hCollecting nvidia-cublas-cu12==12.1.3.1 (from torch)\n",
            "  Downloading nvidia_cublas_cu12-12.1.3.1-py3-none-manylinux1_x86_64.whl (410.6 MB)\n",
            "\u001b[2K     \u001b[90m━━━━━━━━━━━━━━━━━━━━━━━━━━━━━━━━━━━━━━━━\u001b[0m \u001b[32m410.6/410.6 MB\u001b[0m \u001b[31m1.2 MB/s\u001b[0m eta \u001b[36m0:00:00\u001b[0m\n",
            "\u001b[?25hCollecting nvidia-cufft-cu12==11.0.2.54 (from torch)\n",
            "  Downloading nvidia_cufft_cu12-11.0.2.54-py3-none-manylinux1_x86_64.whl (121.6 MB)\n",
            "\u001b[2K     \u001b[90m━━━━━━━━━━━━━━━━━━━━━━━━━━━━━━━━━━━━━━━━\u001b[0m \u001b[32m121.6/121.6 MB\u001b[0m \u001b[31m581.1 kB/s\u001b[0m eta \u001b[36m0:00:00\u001b[0m\n",
            "\u001b[?25hCollecting nvidia-curand-cu12==10.3.2.106 (from torch)\n",
            "  Downloading nvidia_curand_cu12-10.3.2.106-py3-none-manylinux1_x86_64.whl (56.5 MB)\n",
            "\u001b[2K     \u001b[90m━━━━━━━━━━━━━━━━━━━━━━━━━━━━━━━━━━━━━━━━\u001b[0m \u001b[32m56.5/56.5 MB\u001b[0m \u001b[31m658.0 kB/s\u001b[0m eta \u001b[36m0:00:00\u001b[0m\n",
            "\u001b[?25hCollecting nvidia-cusolver-cu12==11.4.5.107 (from torch)\n",
            "  Downloading nvidia_cusolver_cu12-11.4.5.107-py3-none-manylinux1_x86_64.whl (124.2 MB)\n",
            "\u001b[2K     \u001b[90m━━━━━━━━━━━━━━━━━━━━━━━━━━━━━━━━━━━━━━━━\u001b[0m \u001b[32m124.2/124.2 MB\u001b[0m \u001b[31m1.5 MB/s\u001b[0m eta \u001b[36m0:00:00\u001b[0m\n",
            "\u001b[?25hCollecting nvidia-cusparse-cu12==12.1.0.106 (from torch)\n",
            "  Downloading nvidia_cusparse_cu12-12.1.0.106-py3-none-manylinux1_x86_64.whl (196.0 MB)\n",
            "\u001b[2K     \u001b[90m━━━━━━━━━━━━━━━━━━━━━━━━━━━━━━━━━━━━━━━━\u001b[0m \u001b[32m196.0/196.0 MB\u001b[0m \u001b[31m1.0 MB/s\u001b[0m eta \u001b[36m0:00:00\u001b[0m\n",
            "\u001b[?25hCollecting nvidia-nccl-cu12==2.19.3 (from torch)\n",
            "  Downloading nvidia_nccl_cu12-2.19.3-py3-none-manylinux1_x86_64.whl (166.0 MB)\n",
            "\u001b[2K     \u001b[90m━━━━━━━━━━━━━━━━━━━━━━━━━━━━━━━━━━━━━━━━\u001b[0m \u001b[32m166.0/166.0 MB\u001b[0m \u001b[31m1.4 MB/s\u001b[0m eta \u001b[36m0:00:00\u001b[0m\n",
            "\u001b[?25hCollecting nvidia-nvtx-cu12==12.1.105 (from torch)\n",
            "  Downloading nvidia_nvtx_cu12-12.1.105-py3-none-manylinux1_x86_64.whl (99 kB)\n",
            "\u001b[2K     \u001b[90m━━━━━━━━━━━━━━━━━━━━━━━━━━━━━━━━━━━━━━━━\u001b[0m \u001b[32m99.1/99.1 kB\u001b[0m \u001b[31m1.8 MB/s\u001b[0m eta \u001b[36m0:00:00\u001b[0m\n",
            "\u001b[?25hRequirement already satisfied: triton==2.2.0 in /usr/local/lib/python3.10/dist-packages (from torch) (2.2.0)\n",
            "Collecting nvidia-nvjitlink-cu12 (from nvidia-cusolver-cu12==11.4.5.107->torch)\n",
            "  Downloading nvidia_nvjitlink_cu12-12.4.99-py3-none-manylinux2014_x86_64.whl (21.1 MB)\n",
            "\u001b[2K     \u001b[90m━━━━━━━━━━━━━━━━━━━━━━━━━━━━━━━━━━━━━━━━\u001b[0m \u001b[32m21.1/21.1 MB\u001b[0m \u001b[31m1.7 MB/s\u001b[0m eta \u001b[36m0:00:00\u001b[0m\n",
            "\u001b[?25hRequirement already satisfied: MarkupSafe>=2.0 in /usr/local/lib/python3.10/dist-packages (from jinja2->torch) (2.1.5)\n",
            "Requirement already satisfied: mpmath>=0.19 in /usr/local/lib/python3.10/dist-packages (from sympy->torch) (1.3.0)\n",
            "Installing collected packages: nvidia-nvtx-cu12, nvidia-nvjitlink-cu12, nvidia-nccl-cu12, nvidia-curand-cu12, nvidia-cufft-cu12, nvidia-cuda-runtime-cu12, nvidia-cuda-nvrtc-cu12, nvidia-cuda-cupti-cu12, nvidia-cublas-cu12, nvidia-cusparse-cu12, nvidia-cudnn-cu12, nvidia-cusolver-cu12\n",
            "Successfully installed nvidia-cublas-cu12-12.1.3.1 nvidia-cuda-cupti-cu12-12.1.105 nvidia-cuda-nvrtc-cu12-12.1.105 nvidia-cuda-runtime-cu12-12.1.105 nvidia-cudnn-cu12-8.9.2.26 nvidia-cufft-cu12-11.0.2.54 nvidia-curand-cu12-10.3.2.106 nvidia-cusolver-cu12-11.4.5.107 nvidia-cusparse-cu12-12.1.0.106 nvidia-nccl-cu12-2.19.3 nvidia-nvjitlink-cu12-12.4.99 nvidia-nvtx-cu12-12.1.105\n",
            "Requirement already satisfied: torchvision in /usr/local/lib/python3.10/dist-packages (0.17.1+cu121)\n",
            "Requirement already satisfied: numpy in /usr/local/lib/python3.10/dist-packages (from torchvision) (1.25.2)\n",
            "Requirement already satisfied: torch==2.2.1 in /usr/local/lib/python3.10/dist-packages (from torchvision) (2.2.1+cu121)\n",
            "Requirement already satisfied: pillow!=8.3.*,>=5.3.0 in /usr/local/lib/python3.10/dist-packages (from torchvision) (9.4.0)\n",
            "Requirement already satisfied: filelock in /usr/local/lib/python3.10/dist-packages (from torch==2.2.1->torchvision) (3.13.1)\n",
            "Requirement already satisfied: typing-extensions>=4.8.0 in /usr/local/lib/python3.10/dist-packages (from torch==2.2.1->torchvision) (4.10.0)\n",
            "Requirement already satisfied: sympy in /usr/local/lib/python3.10/dist-packages (from torch==2.2.1->torchvision) (1.12)\n",
            "Requirement already satisfied: networkx in /usr/local/lib/python3.10/dist-packages (from torch==2.2.1->torchvision) (3.2.1)\n",
            "Requirement already satisfied: jinja2 in /usr/local/lib/python3.10/dist-packages (from torch==2.2.1->torchvision) (3.1.3)\n",
            "Requirement already satisfied: fsspec in /usr/local/lib/python3.10/dist-packages (from torch==2.2.1->torchvision) (2023.6.0)\n",
            "Requirement already satisfied: nvidia-cuda-nvrtc-cu12==12.1.105 in /usr/local/lib/python3.10/dist-packages (from torch==2.2.1->torchvision) (12.1.105)\n",
            "Requirement already satisfied: nvidia-cuda-runtime-cu12==12.1.105 in /usr/local/lib/python3.10/dist-packages (from torch==2.2.1->torchvision) (12.1.105)\n",
            "Requirement already satisfied: nvidia-cuda-cupti-cu12==12.1.105 in /usr/local/lib/python3.10/dist-packages (from torch==2.2.1->torchvision) (12.1.105)\n",
            "Requirement already satisfied: nvidia-cudnn-cu12==8.9.2.26 in /usr/local/lib/python3.10/dist-packages (from torch==2.2.1->torchvision) (8.9.2.26)\n",
            "Requirement already satisfied: nvidia-cublas-cu12==12.1.3.1 in /usr/local/lib/python3.10/dist-packages (from torch==2.2.1->torchvision) (12.1.3.1)\n",
            "Requirement already satisfied: nvidia-cufft-cu12==11.0.2.54 in /usr/local/lib/python3.10/dist-packages (from torch==2.2.1->torchvision) (11.0.2.54)\n",
            "Requirement already satisfied: nvidia-curand-cu12==10.3.2.106 in /usr/local/lib/python3.10/dist-packages (from torch==2.2.1->torchvision) (10.3.2.106)\n",
            "Requirement already satisfied: nvidia-cusolver-cu12==11.4.5.107 in /usr/local/lib/python3.10/dist-packages (from torch==2.2.1->torchvision) (11.4.5.107)\n",
            "Requirement already satisfied: nvidia-cusparse-cu12==12.1.0.106 in /usr/local/lib/python3.10/dist-packages (from torch==2.2.1->torchvision) (12.1.0.106)\n",
            "Requirement already satisfied: nvidia-nccl-cu12==2.19.3 in /usr/local/lib/python3.10/dist-packages (from torch==2.2.1->torchvision) (2.19.3)\n",
            "Requirement already satisfied: nvidia-nvtx-cu12==12.1.105 in /usr/local/lib/python3.10/dist-packages (from torch==2.2.1->torchvision) (12.1.105)\n",
            "Requirement already satisfied: triton==2.2.0 in /usr/local/lib/python3.10/dist-packages (from torch==2.2.1->torchvision) (2.2.0)\n",
            "Requirement already satisfied: nvidia-nvjitlink-cu12 in /usr/local/lib/python3.10/dist-packages (from nvidia-cusolver-cu12==11.4.5.107->torch==2.2.1->torchvision) (12.4.99)\n",
            "Requirement already satisfied: MarkupSafe>=2.0 in /usr/local/lib/python3.10/dist-packages (from jinja2->torch==2.2.1->torchvision) (2.1.5)\n",
            "Requirement already satisfied: mpmath>=0.19 in /usr/local/lib/python3.10/dist-packages (from sympy->torch==2.2.1->torchvision) (1.3.0)\n",
            "Requirement already satisfied: plotly in /usr/local/lib/python3.10/dist-packages (5.15.0)\n",
            "Requirement already satisfied: tenacity>=6.2.0 in /usr/local/lib/python3.10/dist-packages (from plotly) (8.2.3)\n",
            "Requirement already satisfied: packaging in /usr/local/lib/python3.10/dist-packages (from plotly) (24.0)\n",
            "Requirement already satisfied: numpy in /usr/local/lib/python3.10/dist-packages (1.25.2)\n"
          ]
        }
      ],
      "source": [
        "!pip install torch\n",
        "!pip install torchvision\n",
        "!pip install plotly\n",
        "!pip install numpy"
      ]
    },
    {
      "cell_type": "code",
      "source": [
        "from torchvision import datasets\n",
        "from torchvision.transforms import transforms\n",
        "from torch.utils.data import DataLoader\n",
        "from torch.optim.lr_scheduler import StepLR, ExponentialLR\n",
        "import torch.nn as nn\n",
        "import torch.nn.functional as F\n",
        "import torch.optim as optim\n",
        "import torch\n",
        "import numpy as np\n",
        "# Data Visualization\n",
        "import plotly.express as px\n",
        "from tqdm.auto import tqdm\n",
        "# Experimental\n",
        "from torchvision import models"
      ],
      "metadata": {
        "id": "MwvF-MId-D30"
      },
      "execution_count": null,
      "outputs": []
    },
    {
      "cell_type": "code",
      "source": [
        "device = torch.device('cuda' if torch.cuda.is_available() else 'cpu')\n",
        "print(f'Data and model will be loaded on the {device}')"
      ],
      "metadata": {
        "colab": {
          "base_uri": "https://localhost:8080/"
        },
        "id": "w8EuPIq1-GaQ",
        "outputId": "0a5dd340-a37d-4f58-c923-85e3d0792e42"
      },
      "execution_count": null,
      "outputs": [
        {
          "output_type": "stream",
          "name": "stdout",
          "text": [
            "Data and model will be loaded on the cpu\n"
          ]
        }
      ]
    },
    {
      "cell_type": "markdown",
      "source": [
        "# Colon Dataset"
      ],
      "metadata": {
        "id": "UqwafkwY-SaW"
      }
    },
    {
      "cell_type": "code",
      "source": [
        "s_1 = 0.2\n",
        "colon_dataset =  datasets.ImageFolder(\n",
        "    '/content/drive/MyDrive/Graduate/Courses/Winter 2024/EECS 6322/Course Project/CustomData/Colon',\n",
        "    transform = transforms.Compose([\n",
        "        # Downscale the image by s_1\n",
        "        transforms.Resize(int(s_1 * 500)),\n",
        "        transforms.ColorJitter(),\n",
        "        transforms.ToTensor()\n",
        "    ])\n",
        "    )"
      ],
      "metadata": {
        "id": "bwwWJGN--UNx"
      },
      "execution_count": null,
      "outputs": []
    },
    {
      "cell_type": "code",
      "source": [
        "loaders = {\n",
        "    'train' : DataLoader(\n",
        "    colon_dataset,\n",
        "    batch_size=1,\n",
        "    shuffle=True,\n",
        "    num_workers=1\n",
        "    )\n",
        "}"
      ],
      "metadata": {
        "id": "BFsxaJsO-VFJ"
      },
      "execution_count": null,
      "outputs": []
    },
    {
      "cell_type": "code",
      "source": [
        "print(colon_dataset.imgs)\n",
        "data, target = colon_dataset[0]\n",
        "print(f'Label: {target}')\n",
        "px.imshow(np.transpose(data, (1, 2, 0)))"
      ],
      "metadata": {
        "id": "9fhnbLJQ_GGW",
        "outputId": "6c458af8-5571-44bc-e339-5418287cc876",
        "colab": {
          "base_uri": "https://localhost:8080/",
          "height": 597
        }
      },
      "execution_count": null,
      "outputs": [
        {
          "output_type": "stream",
          "name": "stdout",
          "text": [
            "[('/content/drive/MyDrive/Graduate/Courses/Winter 2024/EECS 6322/Course Project/CustomData/Colon/Negative/img1.bmp', 0), ('/content/drive/MyDrive/Graduate/Courses/Winter 2024/EECS 6322/Course Project/CustomData/Colon/Negative/img100.bmp', 0), ('/content/drive/MyDrive/Graduate/Courses/Winter 2024/EECS 6322/Course Project/CustomData/Colon/Negative/img11.bmp', 0), ('/content/drive/MyDrive/Graduate/Courses/Winter 2024/EECS 6322/Course Project/CustomData/Colon/Negative/img12.bmp', 0), ('/content/drive/MyDrive/Graduate/Courses/Winter 2024/EECS 6322/Course Project/CustomData/Colon/Negative/img15.bmp', 0), ('/content/drive/MyDrive/Graduate/Courses/Winter 2024/EECS 6322/Course Project/CustomData/Colon/Negative/img16.bmp', 0), ('/content/drive/MyDrive/Graduate/Courses/Winter 2024/EECS 6322/Course Project/CustomData/Colon/Negative/img2.bmp', 0), ('/content/drive/MyDrive/Graduate/Courses/Winter 2024/EECS 6322/Course Project/CustomData/Colon/Negative/img23.bmp', 0), ('/content/drive/MyDrive/Graduate/Courses/Winter 2024/EECS 6322/Course Project/CustomData/Colon/Negative/img24.bmp', 0), ('/content/drive/MyDrive/Graduate/Courses/Winter 2024/EECS 6322/Course Project/CustomData/Colon/Negative/img25.bmp', 0), ('/content/drive/MyDrive/Graduate/Courses/Winter 2024/EECS 6322/Course Project/CustomData/Colon/Negative/img26.bmp', 0), ('/content/drive/MyDrive/Graduate/Courses/Winter 2024/EECS 6322/Course Project/CustomData/Colon/Negative/img27.bmp', 0), ('/content/drive/MyDrive/Graduate/Courses/Winter 2024/EECS 6322/Course Project/CustomData/Colon/Negative/img28.bmp', 0), ('/content/drive/MyDrive/Graduate/Courses/Winter 2024/EECS 6322/Course Project/CustomData/Colon/Negative/img29.bmp', 0), ('/content/drive/MyDrive/Graduate/Courses/Winter 2024/EECS 6322/Course Project/CustomData/Colon/Negative/img3.bmp', 0), ('/content/drive/MyDrive/Graduate/Courses/Winter 2024/EECS 6322/Course Project/CustomData/Colon/Negative/img33.bmp', 0), ('/content/drive/MyDrive/Graduate/Courses/Winter 2024/EECS 6322/Course Project/CustomData/Colon/Negative/img34.bmp', 0), ('/content/drive/MyDrive/Graduate/Courses/Winter 2024/EECS 6322/Course Project/CustomData/Colon/Negative/img35.bmp', 0), ('/content/drive/MyDrive/Graduate/Courses/Winter 2024/EECS 6322/Course Project/CustomData/Colon/Negative/img37.bmp', 0), ('/content/drive/MyDrive/Graduate/Courses/Winter 2024/EECS 6322/Course Project/CustomData/Colon/Negative/img39.bmp', 0), ('/content/drive/MyDrive/Graduate/Courses/Winter 2024/EECS 6322/Course Project/CustomData/Colon/Negative/img4.bmp', 0), ('/content/drive/MyDrive/Graduate/Courses/Winter 2024/EECS 6322/Course Project/CustomData/Colon/Negative/img44.bmp', 0), ('/content/drive/MyDrive/Graduate/Courses/Winter 2024/EECS 6322/Course Project/CustomData/Colon/Negative/img45.bmp', 0), ('/content/drive/MyDrive/Graduate/Courses/Winter 2024/EECS 6322/Course Project/CustomData/Colon/Negative/img56.bmp', 0), ('/content/drive/MyDrive/Graduate/Courses/Winter 2024/EECS 6322/Course Project/CustomData/Colon/Negative/img57.bmp', 0), ('/content/drive/MyDrive/Graduate/Courses/Winter 2024/EECS 6322/Course Project/CustomData/Colon/Negative/img58.bmp', 0), ('/content/drive/MyDrive/Graduate/Courses/Winter 2024/EECS 6322/Course Project/CustomData/Colon/Negative/img59.bmp', 0), ('/content/drive/MyDrive/Graduate/Courses/Winter 2024/EECS 6322/Course Project/CustomData/Colon/Negative/img62.bmp', 0), ('/content/drive/MyDrive/Graduate/Courses/Winter 2024/EECS 6322/Course Project/CustomData/Colon/Negative/img63.bmp', 0), ('/content/drive/MyDrive/Graduate/Courses/Winter 2024/EECS 6322/Course Project/CustomData/Colon/Negative/img64.bmp', 0), ('/content/drive/MyDrive/Graduate/Courses/Winter 2024/EECS 6322/Course Project/CustomData/Colon/Negative/img73.bmp', 0), ('/content/drive/MyDrive/Graduate/Courses/Winter 2024/EECS 6322/Course Project/CustomData/Colon/Negative/img74.bmp', 0), ('/content/drive/MyDrive/Graduate/Courses/Winter 2024/EECS 6322/Course Project/CustomData/Colon/Negative/img75.bmp', 0), ('/content/drive/MyDrive/Graduate/Courses/Winter 2024/EECS 6322/Course Project/CustomData/Colon/Negative/img76.bmp', 0), ('/content/drive/MyDrive/Graduate/Courses/Winter 2024/EECS 6322/Course Project/CustomData/Colon/Negative/img81.bmp', 0), ('/content/drive/MyDrive/Graduate/Courses/Winter 2024/EECS 6322/Course Project/CustomData/Colon/Negative/img82.bmp', 0), ('/content/drive/MyDrive/Graduate/Courses/Winter 2024/EECS 6322/Course Project/CustomData/Colon/Negative/img83.bmp', 0), ('/content/drive/MyDrive/Graduate/Courses/Winter 2024/EECS 6322/Course Project/CustomData/Colon/Negative/img84.bmp', 0), ('/content/drive/MyDrive/Graduate/Courses/Winter 2024/EECS 6322/Course Project/CustomData/Colon/Negative/img89.bmp', 0), ('/content/drive/MyDrive/Graduate/Courses/Winter 2024/EECS 6322/Course Project/CustomData/Colon/Negative/img90.bmp', 0), ('/content/drive/MyDrive/Graduate/Courses/Winter 2024/EECS 6322/Course Project/CustomData/Colon/Negative/img91.bmp', 0), ('/content/drive/MyDrive/Graduate/Courses/Winter 2024/EECS 6322/Course Project/CustomData/Colon/Negative/img92.bmp', 0), ('/content/drive/MyDrive/Graduate/Courses/Winter 2024/EECS 6322/Course Project/CustomData/Colon/Negative/img93.bmp', 0), ('/content/drive/MyDrive/Graduate/Courses/Winter 2024/EECS 6322/Course Project/CustomData/Colon/Negative/img94.bmp', 0), ('/content/drive/MyDrive/Graduate/Courses/Winter 2024/EECS 6322/Course Project/CustomData/Colon/Negative/img95.bmp', 0), ('/content/drive/MyDrive/Graduate/Courses/Winter 2024/EECS 6322/Course Project/CustomData/Colon/Negative/img96.bmp', 0), ('/content/drive/MyDrive/Graduate/Courses/Winter 2024/EECS 6322/Course Project/CustomData/Colon/Negative/img97.bmp', 0), ('/content/drive/MyDrive/Graduate/Courses/Winter 2024/EECS 6322/Course Project/CustomData/Colon/Negative/img98.bmp', 0), ('/content/drive/MyDrive/Graduate/Courses/Winter 2024/EECS 6322/Course Project/CustomData/Colon/Negative/img99.bmp', 0), ('/content/drive/MyDrive/Graduate/Courses/Winter 2024/EECS 6322/Course Project/CustomData/Colon/Positive/img10.bmp', 1), ('/content/drive/MyDrive/Graduate/Courses/Winter 2024/EECS 6322/Course Project/CustomData/Colon/Positive/img13.bmp', 1), ('/content/drive/MyDrive/Graduate/Courses/Winter 2024/EECS 6322/Course Project/CustomData/Colon/Positive/img14.bmp', 1), ('/content/drive/MyDrive/Graduate/Courses/Winter 2024/EECS 6322/Course Project/CustomData/Colon/Positive/img17.bmp', 1), ('/content/drive/MyDrive/Graduate/Courses/Winter 2024/EECS 6322/Course Project/CustomData/Colon/Positive/img18.bmp', 1), ('/content/drive/MyDrive/Graduate/Courses/Winter 2024/EECS 6322/Course Project/CustomData/Colon/Positive/img19.bmp', 1), ('/content/drive/MyDrive/Graduate/Courses/Winter 2024/EECS 6322/Course Project/CustomData/Colon/Positive/img20.bmp', 1), ('/content/drive/MyDrive/Graduate/Courses/Winter 2024/EECS 6322/Course Project/CustomData/Colon/Positive/img21.bmp', 1), ('/content/drive/MyDrive/Graduate/Courses/Winter 2024/EECS 6322/Course Project/CustomData/Colon/Positive/img22.bmp', 1), ('/content/drive/MyDrive/Graduate/Courses/Winter 2024/EECS 6322/Course Project/CustomData/Colon/Positive/img30.bmp', 1), ('/content/drive/MyDrive/Graduate/Courses/Winter 2024/EECS 6322/Course Project/CustomData/Colon/Positive/img31.bmp', 1), ('/content/drive/MyDrive/Graduate/Courses/Winter 2024/EECS 6322/Course Project/CustomData/Colon/Positive/img32.bmp', 1), ('/content/drive/MyDrive/Graduate/Courses/Winter 2024/EECS 6322/Course Project/CustomData/Colon/Positive/img36.bmp', 1), ('/content/drive/MyDrive/Graduate/Courses/Winter 2024/EECS 6322/Course Project/CustomData/Colon/Positive/img38.bmp', 1), ('/content/drive/MyDrive/Graduate/Courses/Winter 2024/EECS 6322/Course Project/CustomData/Colon/Positive/img40.bmp', 1), ('/content/drive/MyDrive/Graduate/Courses/Winter 2024/EECS 6322/Course Project/CustomData/Colon/Positive/img41.bmp', 1), ('/content/drive/MyDrive/Graduate/Courses/Winter 2024/EECS 6322/Course Project/CustomData/Colon/Positive/img42.bmp', 1), ('/content/drive/MyDrive/Graduate/Courses/Winter 2024/EECS 6322/Course Project/CustomData/Colon/Positive/img43.bmp', 1), ('/content/drive/MyDrive/Graduate/Courses/Winter 2024/EECS 6322/Course Project/CustomData/Colon/Positive/img46.bmp', 1), ('/content/drive/MyDrive/Graduate/Courses/Winter 2024/EECS 6322/Course Project/CustomData/Colon/Positive/img47.bmp', 1), ('/content/drive/MyDrive/Graduate/Courses/Winter 2024/EECS 6322/Course Project/CustomData/Colon/Positive/img48.bmp', 1), ('/content/drive/MyDrive/Graduate/Courses/Winter 2024/EECS 6322/Course Project/CustomData/Colon/Positive/img49.bmp', 1), ('/content/drive/MyDrive/Graduate/Courses/Winter 2024/EECS 6322/Course Project/CustomData/Colon/Positive/img5.bmp', 1), ('/content/drive/MyDrive/Graduate/Courses/Winter 2024/EECS 6322/Course Project/CustomData/Colon/Positive/img50.bmp', 1), ('/content/drive/MyDrive/Graduate/Courses/Winter 2024/EECS 6322/Course Project/CustomData/Colon/Positive/img51.bmp', 1), ('/content/drive/MyDrive/Graduate/Courses/Winter 2024/EECS 6322/Course Project/CustomData/Colon/Positive/img52.bmp', 1), ('/content/drive/MyDrive/Graduate/Courses/Winter 2024/EECS 6322/Course Project/CustomData/Colon/Positive/img53.bmp', 1), ('/content/drive/MyDrive/Graduate/Courses/Winter 2024/EECS 6322/Course Project/CustomData/Colon/Positive/img54.bmp', 1), ('/content/drive/MyDrive/Graduate/Courses/Winter 2024/EECS 6322/Course Project/CustomData/Colon/Positive/img55.bmp', 1), ('/content/drive/MyDrive/Graduate/Courses/Winter 2024/EECS 6322/Course Project/CustomData/Colon/Positive/img6.bmp', 1), ('/content/drive/MyDrive/Graduate/Courses/Winter 2024/EECS 6322/Course Project/CustomData/Colon/Positive/img60.bmp', 1), ('/content/drive/MyDrive/Graduate/Courses/Winter 2024/EECS 6322/Course Project/CustomData/Colon/Positive/img61.bmp', 1), ('/content/drive/MyDrive/Graduate/Courses/Winter 2024/EECS 6322/Course Project/CustomData/Colon/Positive/img65.bmp', 1), ('/content/drive/MyDrive/Graduate/Courses/Winter 2024/EECS 6322/Course Project/CustomData/Colon/Positive/img66.bmp', 1), ('/content/drive/MyDrive/Graduate/Courses/Winter 2024/EECS 6322/Course Project/CustomData/Colon/Positive/img67.bmp', 1), ('/content/drive/MyDrive/Graduate/Courses/Winter 2024/EECS 6322/Course Project/CustomData/Colon/Positive/img68.bmp', 1), ('/content/drive/MyDrive/Graduate/Courses/Winter 2024/EECS 6322/Course Project/CustomData/Colon/Positive/img69.bmp', 1), ('/content/drive/MyDrive/Graduate/Courses/Winter 2024/EECS 6322/Course Project/CustomData/Colon/Positive/img7.bmp', 1), ('/content/drive/MyDrive/Graduate/Courses/Winter 2024/EECS 6322/Course Project/CustomData/Colon/Positive/img70.bmp', 1), ('/content/drive/MyDrive/Graduate/Courses/Winter 2024/EECS 6322/Course Project/CustomData/Colon/Positive/img71.bmp', 1), ('/content/drive/MyDrive/Graduate/Courses/Winter 2024/EECS 6322/Course Project/CustomData/Colon/Positive/img72.bmp', 1), ('/content/drive/MyDrive/Graduate/Courses/Winter 2024/EECS 6322/Course Project/CustomData/Colon/Positive/img77.bmp', 1), ('/content/drive/MyDrive/Graduate/Courses/Winter 2024/EECS 6322/Course Project/CustomData/Colon/Positive/img78.bmp', 1), ('/content/drive/MyDrive/Graduate/Courses/Winter 2024/EECS 6322/Course Project/CustomData/Colon/Positive/img79.bmp', 1), ('/content/drive/MyDrive/Graduate/Courses/Winter 2024/EECS 6322/Course Project/CustomData/Colon/Positive/img8.bmp', 1), ('/content/drive/MyDrive/Graduate/Courses/Winter 2024/EECS 6322/Course Project/CustomData/Colon/Positive/img80.bmp', 1), ('/content/drive/MyDrive/Graduate/Courses/Winter 2024/EECS 6322/Course Project/CustomData/Colon/Positive/img85.bmp', 1), ('/content/drive/MyDrive/Graduate/Courses/Winter 2024/EECS 6322/Course Project/CustomData/Colon/Positive/img86.bmp', 1), ('/content/drive/MyDrive/Graduate/Courses/Winter 2024/EECS 6322/Course Project/CustomData/Colon/Positive/img87.bmp', 1), ('/content/drive/MyDrive/Graduate/Courses/Winter 2024/EECS 6322/Course Project/CustomData/Colon/Positive/img88.bmp', 1), ('/content/drive/MyDrive/Graduate/Courses/Winter 2024/EECS 6322/Course Project/CustomData/Colon/Positive/img9.bmp', 1)]\n",
            "Label: 0\n"
          ]
        },
        {
          "output_type": "display_data",
          "data": {
            "text/html": [
              "<html>\n",
              "<head><meta charset=\"utf-8\" /></head>\n",
              "<body>\n",
              "    <div>            <script src=\"https://cdnjs.cloudflare.com/ajax/libs/mathjax/2.7.5/MathJax.js?config=TeX-AMS-MML_SVG\"></script><script type=\"text/javascript\">if (window.MathJax && window.MathJax.Hub && window.MathJax.Hub.Config) {window.MathJax.Hub.Config({SVG: {font: \"STIX-Web\"}});}</script>                <script type=\"text/javascript\">window.PlotlyConfig = {MathJaxConfig: 'local'};</script>\n",
              "        <script charset=\"utf-8\" src=\"https://cdn.plot.ly/plotly-2.24.1.min.js\"></script>                <div id=\"e3148140-f250-42f1-9b69-af02499cbb3e\" class=\"plotly-graph-div\" style=\"height:525px; width:100%;\"></div>            <script type=\"text/javascript\">                                    window.PLOTLYENV=window.PLOTLYENV || {};                                    if (document.getElementById(\"e3148140-f250-42f1-9b69-af02499cbb3e\")) {                    Plotly.newPlot(                        \"e3148140-f250-42f1-9b69-af02499cbb3e\",                        [{\"name\":\"0\",\"source\":\"data:image\\u002fpng;base64,iVBORw0KGgoAAAANSUhEUgAAAGQAAABkCAIAAAD\\u002fgAIDAAA3DklEQVR4Xn29Wa8sSXIm9pm5x5rLWe9ee7Gb3WSzuUHTwyEpCSIoQICgEfQwv0GAfh1nHigBAmYwFGYkLjNNUmSz16rqqnvrLmfJNVZ3Mz2YR2aeIkd2z8mM8HC35bPFPTzj5KXP\\u002f89f\\u002fvyHL1+\\u002fuvu9P\\u002fwWdX2329U5K2fIHHsPxz7LhqYfBlHOOwlnH8+vvnMFLwAIBBARqUJJARBZo0IBsjcoJlIQEaCqICXrDwJEQaSCcTPIqqd97N91u9stYlzUZT8OkbG8PGOmZt8UWZYRj+O42+1E4\\u002fxs6cpyaDseoxMd+v0IlNWi6bt6PtegEiOr5EVWLOe7dh\\u002f6GCP2717VZ+c6L6rLM+nHPM+iiPe5xBEjZN8h922MN+\\u002funn9wXV7OlcgT0Y\\u002f+9B+2t\\u002fuLxRmGzhPNFjWrxiH2XV9k2TiM4xjIOTiP0mvlL7976ZbeEFBFMviIyBEZSr8PGlIHtXcCAwQWVZAK4ibEux67ELbdsO83t5s6z\\u002fPM93Gsz2rnPQh923tFluUapW\\u002f2otEVuWM3dn27a3br9WyWzcryy9e3gfj5iw9B8KRNs7u4uqbSA2D2XdOMIgTf9m3f7R89v64fXYQx5o43r999+bNfPn78qLq+Hh1vV+vFvCxmBeeed0p\\u002f8if\\u002foR\\u002f7+aKuH8+1ciNiF4ZI3EWhLCvqKiuzvHZU6OUn59ncq4omoAALjUQn4KWD48+hNb0DCXGoAArEGKUdtAv7+\\u002fazn7\\u002f58svVEPR23dyvujiM47ahYaAgufcZu3EId5t23cRm0DjEOMbdeuNdeO\\u002f549D3r77+2UXtFhk1N7\\u002foVl96H0vPzWb\\u002f0x+9HPaDDL1zrswLx7SczWfEmzfr9e0O\\u002feihoe2uz84Y6FZ73bVX1+dxjPvb\\u002fbgf\\u002fNK773z\\u002fV+urhYQxhLA4X+73Q1VU7W7vHCnAuQ8ykndaO3+VRYpQEOgYQgAIUIX9g8Ky7R\\u002fRFFoEAKSqIKglJYnSGAWxGeJnX973+7gss3a367rm6sX1ZnWzu8dssShnNXNGErfb3X7gKPTk8VWeqYM+ujx\\u002f++aXbmwfn1ev+up+\\u002fYbYD0PLBQ\\u002ftPi9Kyh\\u002ftNmFsoyNynkUFEkcZF1eP2kH+3Z\\u002f9pM7xg9\\u002f4YHFxsfW726\\u002ff1uf5fF6FbVsWpeQu7lv64t9+Xl3Pw7bZv1rnRPmsuHu1Or88yzO\\u002fvl8VZRlZi7O6uKrddcELBwiUiEjpQZ5pykmDQ4mIQOlYcYRPYQgZrgRVIlLIINJF7WW8H+NqQD+8+eJHu6++yvKKuMiy+vr60Wq9qWdVXeab1c3N\\u002fd2616JYvv\\u002foWqlbbWU\\u002fDGfZ2Pfry8WsacYwdnV5TZ637bYu5tt2T9ny4upJUeRwzjspcmKX9ePAmc\\u002fK6tXd\\u002fq\\u002f\\u002f5ue\\u002f9v754\\u002fcu54\\u002fPtvd7jo4KyousXTfl1UKi0lf\\u002f9+dlXbev1m4kV3Czb6RD7AfyVCxr59gVPjvL\\u002feOKlx5EanEFslI9YTWl5SHZEpIKTOVpatd04TgrKBQBYT10X220HZrXX9\\u002f88lVdZOP+3X7Up+99u1nfk\\u002faz+qIfx12zWs5qEUc87\\u002fpGYpO78s9\\u002fvikz\\u002f\\u002f5V3jTbIitIhSh78uRZUeb7pq3ni3I+H4S3u91m2653PUCXy\\u002fLZ9dx7KNTlebWsN3erbreql+ft6k395Jlms3G38or66mLfj\\u002fXFwjv17esdRvHnlRJlPBtkuL3Zzit\\u002fduGUwbVH7WMGQFP+mPVqqCXAiKD6AD4yAKfiltom2IgSP1KokkYhxXC3Gt7eh93acd7r6Jx7UpfZcFei2+77dt+KuOX8XAfddPfXSw\\u002fW1b4tZvT0bMidHwbU9RPvszz3i1lV14USLhfzCAqObtbNEMgV88dl3e17x9Q2XZExAbEPQ9O5qqDqort7W1Dev9vwBefeS9P2m8Yxh7udl93IEX03jG+Cc540\\u002fvLz+7\\u002f64We\\u002f\\u002fb0XV1dldr3k84JzdswnoTMFlQXJRAcore0UJIUasKrKtmzQA\\u002fjEXeheb4ebLXXat+12u3YFX108f\\u002ffVum1Xzx9\\u002fsN7vJHA\\u002fBnVys15n3lXFbNf35\\u002fOrfdtD+On5ZVmcC2dgdo7LIq9mJZiEAO+8c+TdJVHfjaR+v298wVnhhWi76wiIqi5zrh2jsIbZjrH0Bfc6MqqLC2gM7RhF\\u002fPrN2ovs11sqSxV1Sp7l6ePzctbddXfP6msGiE8iwkwHACVOZd6MxuH4BEGDDzZILQ1TZYeC2cV22H3+ZveT1w7U3N3oMJIMGLTp2ovrD7XbtH1Y7cd5dR1iK0Ld6MssK+olENnV9eKRhnFZVMgyEPnck3cK0iJXx77wIBUgivqSfFEQ4Iryqy+6tlcdxyqjeeWJ\\u002fWqzZ4pFnlWz2ju37YLrm8XZfBxUx45jYFf5YRxDkCDdasz+jz\\u002f9yz\\u002f+o3\\u002fOyo8vi8VsDu9DF5yCMyaAwQrItCKYflOqJSgV+rCWgdL60wqUQhXTihQUdsP+y5vu3b7d7lxeSNf03T7L51WGdr8L0nXt3avbsY+X9XJRFsumGYe+y5H7rDw\\u002fr4exh8syX+RVGUl9kWez0ld5DFFBlDlkzJkT6G7TtoOWlT+\\u002fmLkYyybevNrmzpUZ1\\u002fM6y301L9\\u002fdrG7X++Hd6vrivJpV\\u002fX6F0J8Xj5wvBRKD+Pf\\u002f+JO4i8O2rXf6O+vvuQJuvV+tu7uqfFEtbr+4vfqVR6SqowiIMiIPtYW4ABAwkOY9wECy4yNcpJatBIKKKoEIJEFD0\\u002fdf79qf3exv3mJo+q7Psc\\u002fyucre8Zz63a4dvriZtVI8vXjM3m+b\\u002fq4JQxfKnMHah1HJw7tBdRwkL7xj13YjA+WidDlT6VB4ZH7oBvVVplLM8mxe5t59+7p8\\u002fKbjIRZRhlUjQFXmz\\u002fJHu3W12+5FtNvtZ5kXRdv2dZ1R5plAu\\u002fUWABETKA5y\\u002f+X6i796+fn\\u002f+xURPv7wiYQ4vyg++N2P3Jw1Ekry84w8qVLsR2ZQ5kDAYV1FhClNT1ZiFosKqIrqCG1CbAMixs3Y3XftejfutmO7H3e3EhSMrCii5r0UQiUzvXm9GkY0XbNYLLzDp88v6yJ7e7tu2v3XN5v7bXj+9Po3vvd8dj4TFV+6bFlmF6W\\u002fKF3JILu3IhCpABAixAEYNXQDNZBNCE3fbhontF3t99uu3fXe0Wye18s5Z5RnznnOitxbFilEFeT16uPFxXu\\u002fdvnpk1\\u002f856\\u002fud0NZ5eNte\\u002fb1+vKjSxHoLoxtzM4yVzhVBZhAoimOEmCUDgmiCmVTEzqKBo29dJveBcQ2dNsuF0g\\u002fDENomy7jePbpry3rDITscpGdVeQp9DJ04el93677Ydcu6nxelevX97fr9tVNd7fZN53mxez86cXVt56WF7lGGcfAtc+WOZesrIBC0mrO1sEAOCfKmcsyZiHGEcx1MQ\\u002f7oeZZUVYbbGMIUTCGYT5fDOOYSQRAu\\u002fVOVaYAUCVSqy6De\\u002feL9esfva5EirL8z5999lu\\u002f96svPnqy2zTrm319US8e1+U8A9tgW4UaZDxhpmGQu1eru6+2\\u002fU5CP1xd15dX8zjE9n4fdr3uh822lSq7\\u002fuh6+WTpS5fNM4JS5uBJGcQKwKsjodjF5l2ze7ff3+1nedmum7dvm9fvNkHk02+\\u002fePHpZXHBxUUBJoDyOodHhDyoCWTBTmArq0pQEgptCE2QLmobZRf377bdfbvfNOvdPiuKss4+\\u002fPhZHIYg0YMUoGkWFwIUrAQU+vg7Z1fvz7\\u002f6T18Ob9vPfr7K8cWjeV1UWWzk69c3u9v5k185q85zZlaGSSeQhhhGIZAM8ubzzerNrm9FgszqKuxCo13XDfdfr8cm9qJPvvv4o99+Wi4KIbHZId0JwO6GiJQEgFPMeTabz99btKt+\\u002feWqcPmvvjj7cPvo669XRa3F3FPGoshmOTuyuWQKcXM+iGDMCXQoqcKK2vnCUYB20mJXjhUJNe0gwmMvzHrz9v78ci5CtNvsAEx11zRNwKtl04DVT+53bxuMAUPvK1fPF2HUXmJ5lleXNVdMGbnMx6gqImNUVQIckwqLqJ2yYtyMQlqdlc1Ne\\u002fNyffFiefHJUmtiRSprNhsogLQws8gAoEpQEJSJZOT2rtm\\u002f3XS3\\u002fZ\\u002f\\u002fXz979W79P\\u002f6rH7z41pW\\u002fyNWlpfJxJDDZ9aCVpuIBM1bVK4\\u002frof96p5u4e7t7+dXN2Gs9r97\\u002f8NKXLmr0mIJ0CjEQiAi2OlIIcqqf17vVdly35az2WXHzdvvm1e3QymJRXD1e+tpXyzqb51QSOQIjn5fsiQFRsCqrShQIwwcXtL3dvfnq9vF71\\u002fMP5pIzU1qjMlSPN5x6sEYJpKBpvohQ8nH2uM5q383a7\\u002f3gk8XP71ll7MbM52rpZXFFk1lWNKF2wzoFL0AEtYCGkkYEd5YXsR6pqaW+Gs8395uyxDD2XBTM7BUKQ8f8QQlnAgikRKJSnpUXH12O8yWG0G6721ebv\\u002f\\u002frL8u6fPLsan4puXfEDIUKsac894gaRQSJsQp0VBkG9LJf74X10QdX86cLypkdEVghIJWUL4rJTBAUapZPUaAAFKyI+dw5Vz3ni6vLmQrGZkQAMnO0VWGCLeuILB8BTbwNTagac1Ky3QGIvyyJCdxdEs8XuSeOUbp954vcHwcmTQw0E2IeIHEyezTfx\\u002f1Xf\\u002fHVeD9mWbYLeHR1\\u002fp0ffLS8KmRUUskKhkcMIRIpRXUAQUVJCAJWjaMIg9jXs2x2VQlivxvc6Mp5SaxqmaJkphkRkNb6R0qaAhASrt3s2Ywz19927aqd3VfZkzwawlMVscw22wAo1BwAJViuG0sCVJkIpO4szyP325Eqn3vXbntSdsQM4CQukZgSCSWmKSMLra5LotwrPNPycn71dHHxuFo8mvm5U3YKSFCGJzB79pnL2DkBRpFB4ihMlJc+K5kzGroQ+qBBMucP0JwQ0TS5PrxoEZKuKbEQuHSzZ7PySV1flKvXd8NmxIT5wfk6uf1gpsIQTUSwxTUBBJA4oGRkfLfdR+\\u002f8rIigrg8eFkOnnJBKcmJIDGWFZDN\\u002f9Z1Hn\\u002f3ZuiT+b\\u002f7g27NHi15ippItC\\u002fZBg5BzvvS+ZAKGbgxd1CBQOGV2LvRhDIMSkyPbwJ9d1q5gnarjQR6ghgvS3Dj5MiFHirTBoQolZY\\u002f6Ub0OA4vfv94v8yUVrKSkavYT2WDjdRoZBzpRAiAIF66c5YuzGoXLF3kgDPvBI2Xz9KJIWgAgUNrAIihFyNWnZ2HzvqzaUFI+R31RUumIEZlYkWcuDnH9ZiN9ZBAxdFSOCCGSMBTqqVhUCgJrtahc6aJGQvLnqbuM1OBLGAEwNROusIINKJQyOX92fh\\u002fXw6bfvt4un51RwUpimh9gSuNIgSm7pzycDAagpAQHrrm+mLF3flFUzu+7O0\\u002fEiQOZDlNKJ\\u002fyMuYgqAFe6\\u002fCK\\u002fe7X5yx++\\u002ffTXn\\u002f5Xn15qCSgXMwy7vrlrQxcInBU+RgmkcQztdvj6i9XbN+tP3j9fXM87DeVZVfhMnYohoUeoyPJFDb004yvUYCEoUggk107ZpaLiPS2fzFchoqPNq9XyvTPkpNZtMiQZNiXydKaWt3aspo+n7KwMo47d4DW+ef22Ppt5IGl6RMiUsdkCirSRDIUKhBiucI8enc3OZshZEaFRhUJUP8uGMWbMzFwVhat8v+00UttoCA65Xz6Zu0U+u66ymYeDWn0FgFRpk+2wVaTpQ6QQEUx1jIgVqgS74YPhAYoQX\\u002fHsara7aXP43evt8r2zyLZLkrqdQmTOmOSkd1VgYswZA9I3\\u002feZ+e\\u002f3s0l+WXqGpatnsARjGB8YHGAEwCKD52fy717PlBws4IfMJa3WeSyB15MHDLt58vbr+8MKVuWY9cvfsg\\u002fNHL5bzR5U\\u002fy\\u002fzMpxsRNSkWLIkmc5IdlNZXpFGViB2xYzGlFIAqKZAmIyWtL4oxxu6mKdT1911+VcTk6+lfssgOJrQnMlwVJCqqwkQiev7kYva8psL5qXqaZCR+oIPa9kZWvQJyzqN2WcHVWZHuKYkVoirqZHZehGYoZ9yt\\u002ff0Xt+poPp\\u002f\\u002f4A8\\u002f6JseKsoMJjGRYhxVCaoGis0qB0omMbECIjFIlBg5QAHHDgrlSV0iAlQRoYurmXRxe7OvIrI6o8qRCqYctu5JEk1Y2ammXwBKiFABosP8vZl6QOEtnKbpzzpPyaFIhSKKA8uooRl0HBUxLwuNSuoiRUVkWOLzsB\\u002fGfRx2nQM5zUjQ3u0U3Nw3RV26TVfMlwSCibMVe4ovk6r2ciSFEtgxVIOEvh3DEDRqWRZwBIAdE7PzDAYRyBFIl08XqtjebPW1XnxwLg6UWE1BrEhRDeAQJIRpNlALxmbXzq9nnHNUAdTThJTaRDuBdUjvMMj27TaHd6DQxXbdE5PPfLtqCxCXTB4QZWIGNU2s8ixf8Eh9iAMzgzQrax+ImMZNd0\\u002fx\\u002fMMLl7FAJoceXIMUSyd4WbgRkfMMOAnCxOM4aEbsWAUqiBQ1KjHg4OCIhDNaPp0xaPt2s453yw8vNDNw1JLeHHaQTaApRFQVCmWQjsrs55c1ACYSqD+ZUE3X4waL\\u002ffPesVK368osH5sAESjCrnfzfFwP3DLnNPQ9CbF3rDR0g1MmJXLOFVkciQlEWpTZZjcW6vt1VyxKV7hIaWtIxWY7WwokNyf5IEAVykxZ7jPvMaPtGiGG2ldmqipUVINIVA1KzOzJOze7rki1ud2vP7tffnoBB9I0KZzwnsKCgJSeaXqJfeTCudKrTZGa9p6MDGQFgLR0IwDkcf7kzFV5CIhRJTqJNLRRegm7Pu6j9urVZ5yRELPVF2V2oqIinnlo267rmqY5v5pXtR\\u002fbsdk2Ei3iLYQm7dMpMAk3VyNppEoCp\\u002fWyZM\\u002fDOIBUEc0Odo7JaYQECUMchkFIsnlenC326767adlCKv2kFyBF2CkRSIGxC\\u002fksB0MBq3beMi8NtGF2M5X29FRUXMHVeTmshkyz1Zfrt682g8T3Prm+erqIMkS4LHdUgAgKZeYYooQIKGKUECXE+azmzAlrHyQrMgX6ri\\u002fmeQLEiKzUA+njJEhCSqG2M5GCnZmrWTX2IYaYFxkIY4iAOmKNTkUVIhGqqo7cwufD7Pazu7zO3KIQKANk9ikwQQNVOzdJEEiIxTw39VRBfBJZigT6AWjTEIqoWtQepNv7bTWr+j7cvdl98ePbr79YDc0og4YhDm0Y90EGgSLLHDklz0HEsfPsJIYwjsQEiOWC7XOBJg8dSDFFkbmTyMqMTolDAMNlzmUuCvpuJGZfeFd4VzjOiXPTm5iIHfmM6mWh6j\\u002f74UvtI6uowpIvlaoHsgGQMmQQQCknwOSSTigDx0FpdjW4E0dFiHF1s3\\u002f589XY9t\\u002f\\u002f\\u002fvvPny+do7t3+76JfTtoUAfnmSVEGWPoBwBZ5pk4RpFh5H037huVSMzEpKRlVRJZiCfhNiWmBkNrogcqEoSgpM6zcy5E7boBgJJERPKgjH3mkT5JAgPscf7orLkLn\\u002f\\u002flV4gEmEvSAkJhotROCGBQv+1d7thb1QcAVfVQMoRhGCZw0++Bi0YadyG24cvbV9\\u002f7zQ+\\u002f851nscrCKL5gzsBKsY+KSECQyLDtLdWgOopE5ar2HiAnqgKdLefiFbBQOUg8oak6fKNZkTKTQMREHg4Uo4Yx+JytGSCXEVM2tCEEQVRVCElRzX76n76s5+Wz33giLGrrCBIbAzWgiACKPOyG+rJyGSsUnFbGXq34E0AJ3FMFkzVEDkyBwhDfvtlffnm\\u002f2+8ef3D1+MWlsDp2iCpjQJQQRQR9O8ZRvCPHMODc3PnCg9gzk7JMq0TgwWxkCYcDIjZ3paumXCIzjTNWKInKGJWIMycqgCqIPBWzfGjGruucuG437O7b\\u002fRZ\\u002f\\u002fx8+v3x+Vj4qAyJMyCTb3hXoN0PoA3smSgschRLYT3icKJNapigDkXK\\u002f7wGtivxsUX\\u002fx2e3bd+t3b9uC\\u002feyiokxjjCoKQhhw82777u3OUw7IYunPz2vvKD\\u002fzKjEG9H3M6rziKpqup0hNlMQqYLX3sJ4w40AGBwjMTDlpiBoojqoUnWcltY++yGk5L2SM7355M6642w9MyFz11d+8Oft0efn+uXNsD+ZNMlUBVt692eZFNm23Jo3IImvSALAkni5bK6sb9mO37+pFwWV+u2m8yosXly9eXJO4bju43LNHXnp2zMy+6POiaHZjkTuFa9qhzDK522cZF4tcSciRkpiAByAZGUD4BoBmyOlR6sRM6lzUKEF0iEwM74msrEE0zC5q1euXm7ezmSsez8o6J+Wwlp+++eXl08Wjpxeu4Gj4qip4WI+7N+un33rqMlJKHxCYo3yKqoMmsFQgUFqbqYpEBaQseFHTe88vXJZ5r8hiF4eKS5fl+32z3vRF6V3mLq4XZxfzEAQCho5trxJZKI4IgVzp2NYFCY0jJKaDzVIAmRLfgMyUPrzaOzGTU1KVUYZ2yIrcFSzT+iwgzK6rj3\\u002fz2X15P+zCGIKvc+epcsXdZ9vNq6ZYZovr2eK8Ymb02L7cVi6LIZSuSLAk56iftHkgnaBQgkIhzFxWWU\\u002fu3Zv76OLH33syv6jhOYjIIGGMm7YlJpe7fgg0BkLnmTOfQYgAgfzwx1\\u002fPCv7Wt54WXGQ+J1WNIJdKuB6mpWn+PXnRk2A\\u002f6gjTEUBafig7BgAhGWK\\u002faapl7QovEEulsR2H3VAvivPruTgl7wKkuiiy4mJs4+3Xq8\\u002f\\u002f6qv9ajPPskdnl4AWF6VESBDyrARStWnQPrAwmjYeVVMmkDKx9PL2F2\\u002fGvT7+9nV9OSNWSPRVAU+IQC9h20MgomGMYzN22x5CzbZrtm1G+vpmWxK9e9fV\\u002fvYDUXm0qOdllMj2Ua6FD2DFXM16IE1QqlC1JcXhJZFOS5wJT3ZMGQ2D7Ldh\\u002ffbdbFEuHi+4ZBJ0+67ZtRrjMIxZ6ZnEeZ8xR2g2c+\\u002f\\u002f2pP33bP11\\u002fsvf\\u002fjlL3769aPLBeXMZ2WMmhFBIzC5b7fZpqQDAFYVcxYTa8D+Zr+93VeL+vzJDLktFglIOyIA2UgSQYQGkUF0EHYUo+pI69fNf\\u002fyzn77+8s23P7j88PmVMpfn1exJXT2tiosykBKILbCsbkNT\\u002fBCpwp4rmPYkppcjpUjTpAkIQMSwG\\u002fZft7ubnfL45KMn49h3bajmtS98hIiKqnomYlUixx5KAs0yT4P7f\\u002f71X3\\u002f+tz\\u002f7nd\\u002f7zovf\\u002fWD2rObykM4gwJNScluST8RK4NCMq9dbgC7fPy8XhaiQMiHtrQBESgq7MSViBoEcayaYAUT9pmenjz5d\\u002fNH5r\\u002f307x69\\u002fMW7fTtcnC9CN7arNlvkxYJsKjYy6RZlmmJqugbF6SrCGoADdocrSnAZ1YsKe5XdyKN79ddfucpffXzlZ5TPMpdZJSYIJOrQj0MfNChG6rrWCT1\\u002fdvV3f\\u002fV3P\\u002fzbX3z0+59wzqoW74A9OLNbb1P6WUoQySDrN9tmPSyuZvOrCraKVdsvUlUVmm6EVAEw2QYqoHY3pwCROKgQKUGkR7uS+1fr7u2qyrLivAxOLt67qB5V8Tg9TzeECk1YKQyPw+9Up5IwpHYFACUCk5NRxu3Qvtqvv77b3O6WF+eXH5xXT2c8c+rMAJPIDCaCioZe+u3Y3LX7m2a873\\u002f54y9\\u002f+dXqX\\u002fwvv\\u002fXdP\\u002fxIEAgcCRYkHkCaIYkh2K\\u002fazc2umtXPfuWMCgshAGaDEEAMUqjdbMNmzLQzpWSWgAClOGHIVNGscssnV8P+8u0XtyBaVovmdu9yys9scahEpKAUI6qJczo3DSZ8piOFlTPABgokaL8Zu\\u002ft++3Yz9Hr+7HLxeF4\\u002frbNlHlgUAksc27mDigoYvuaiqmbnxfxq\\u002fvIn77as3\\u002f\\u002fdT3NlCRFebd+NiEjhWQCAhLp9d\\u002ff1th\\u002fGJx9fFYuc7K5RdVpCgEBIy26ydwNGiU3pycupKhMoqqT9X2hkZAv33vee3r1erd5sZTNI0AvHfl6kBeqEBZmDKIEAY5ua0qHVKUWqtyQIXZRe9+\\u002f2t7+8cbl77\\u002fvPAsVyWbkqF1YAlLCdpjEAdnOqiCSUY\\u002f6keJY\\u002f\\u002fpN\\u002f98Oy33z78XtjO2SLTFNXEODvv1g550ITbm\\u002fW1x9eP\\u002f7WFWcEWB4Y1yNWxxmIiFTNqOmy2ZH20s2eGCOzI8DmV1EFwtmzRb2Y\\u002fejf\\u002f2wRVB0WT2fVeSWW4QAoJblJIuNvy4x0MpEqoAyHEd2u7zdj2MaXP\\u002fuac\\u002frV3\\u002fiQaq4Khq1\\u002fjJUay8QNgElRBaBCCDEszrN\\u002f+S\\u002f\\u002f2U\\u002f\\u002f\\u002fKfElGWewLB8MuN+\\u002fKc\\u002fLQsvuVx8eJmfFwKrSGLrWVv6EAyrJExVQTSBmKRO1h3UUMAUJYJCbS9ICFAlJh7W4cu\\u002ffnn9eNkNfX1Z1VczVzkBlCwDlRM8AEhtXgGlamsxpUogitSs2tXr5tXPtp\\u002f95OWjJ+Uf\\u002fk\\u002ffz86yYMu8pMz0qvaiZruhr6ogU5Mc4Cj74sdvbr54+1v\\u002f7XeQIarZDkC5ypkKLJ4tXEWiMbkX0z4IyESomuf16ChQokmV6RIRyLanCVa0H+7HGnglnT9d3rxcFS4n4fauGTeDG+AAViZNuQgFxJCZrAZo0l+DNpuWlZzwV5\\u002fdrLvN7\\u002fzRd\\u002f1ZFkmJTAeyzsmMSddjC0BWcTQFbtThxceXZ5eLl5+9ThtYKgpVIm66oVjUYAY7pFCa1jeTZ41rUvmg9EF1OsQcJitsJAGT0UlLUjV3KDNXy6quqv2qcUw+82Efbr64HdYDBWI4UrI6gINDkpugIFJi5bEbEYmV23Xftpv\\u002f4V\\u002f94Pz9KlJMYWN4TdlH9nOqKmDcDwYoVEECfPSrz2KgZtOn3RkFAH70yXW+yPM6c0wWQAkZKJA8cHg1jumiueXQkvSDtU6hfgDYDhIvISVHYRzvd82\\u002f\\u002fjd\\u002f8cu\\u002ff629xEHzrIidDPtBuqiDzSyUBgJQqztk\\u002f6SN0kUWajZ9pvpf\\u002f\\u002fe\\u002f\\u002ft6vXEZVAhORwlJheqwUB10PsAFESdVDXBBAwp4o42fPL+9uNog2A0JVOasy4eBzN+UcgFRfKQ2m6cfOUx8AdICMppbp6nSiQIoMpkNasIJA4jxzlpFW25uue9e1qyYrnc+c9rFf9e1dt79pwn7EqBTBMAWUFU5c7GLfDBKUQXmerZvtk4\\u002fP4aFWjnXSDAaHOe9AybiTc6KjrwkEzYgrns\\u002frzW3DxAAxyG\\u002fu94vrGgRJ1hLSLPdNOpUGmA7fFAkgIXVAUSEizAykbALIEUHRdQEU\\u002f8UffDo7K7cxjPt+iJoVzrFTVZ\\u002f5rHBDN1IW4EAZ5VVGIFK0uy2UiqKMGEVkkOHyvYv8rIyTu5ObyFaDSZNvoGX4JXQeXgFBnRJxPau2983YxazyqvDsXRTJib+xDjkMPLI88c7BA0YKxXHNcNIFCpr6kZ2DCA509665vVlfvTjLq2z5eE6EdtfLqBikbfqhDe2uH4dYlH6+qLLSUeb7th\\u002fHKFGdo6IqJAqYfOal7Z9+cg0PpLtuSBPGtiuuF8SAHixK6ZxUTJFKqV3VbiGIpsnXEWUo58X2rrl6tlQWX5RZ2ixMUJ1CDkwLBDqUVzrCl7qcDEh4JgWIYAsQUgIdll\\u002fQcZBx7D\\u002f+3nPnnbJqripaXRTjEJ3yjGtikiDDdlzf7G9uN7n359ezfJ7lZdbuu6IsAIrj6ArHnrPCRajGYI8aUqTu5QYF0zU0LdZTXTjROqkCApQIandbVmE1rTCJM3Y5u5b366a6LL1KhFi2quWfgTKZnxqsCgI4BMrJxQfYGVFKARswkdoI7fuhXpauYHIgOI2iQIBwziCyp17gucyL6rx41J+t3+5vb7bZhhaLGXkoq0B84bMiG\\u002fvRe99su4oyrh0pxn3f3e+W332majpTUvL\\u002fj8x8ADZdK8zDrD7nqi522219Xnpf5GMYpwBK71aSAZzkHuFBlk0AHfA6gS1dIUOHAFDaolACD00fw1jPZ+Y+kNhiFTDHEpvvSIQAB+R8Xi4Wz2Z9M7z+\\u002fI5V3r96ioLYMwUCyLEbx0BKBFaIK9zskys\\u002fyzGZTkmbSTM156sCU8YogBQHx48oFAB55lwyyofNYMtFguW1IXU0ePKIUjJbU5tJmoRbn2N3ILHUqaxOkNPYh7ELRVW4jNjZok9AAIEIRJObbCGamKpmShWq6+Lj33lWP6lff3U7bAZWCs1IAc22c865PD23wYXPH8\\u002fhkiIWJ1M00LTsSudIU3+SayFlCKZHo0iz0oN03AYPgUSJIcKeyzGWR0UJeIAJDpCeQHC8okCaggx7skNSJWKN1O\\u002f7PM+ywgsUokRkz1uY\\u002f6cwBCwSDgadiHr83uXYh9Xrzd3rjRdXn5V9M8wuarU\\u002fvQJASkpQnTyaoCI6XWAelD5kC9mv2QCoHmxwqM7L9S83PAw9VPqmY+F0k0Ca1lyTpaRHvY9CUpcTpKx1IkqhDyhM8W7fSxR2lJjTMZ6JUhPBFp4pshTpttCYEUE5ZiU\\u002f+uB6dja7eXu3X7V1VagIooEyITYJxz8OJms90IQoYCYRmWZEROlWPC+yLPPeZczkwhCa1b5YVOQJDCJSVWiKTlUbYsiYaLPtRNKJ9OSbdGTrSY6jEKiaVelxbgIxpRsrIMFz4hSltMF9gJxAYOtF4Hj2Ys54ykJjiOvb\\u002fXV5xgVHKzkE2Dw4RZvClhXJBlD6NXkTvscrqZsVH9Fm3XqfMTtmx845Vje249gOOirbA41KrESKadY3IluJp2iZBKWXQ6\\u002fJcAIIJEGGLoDVl94KOIEsOI3zFPyJWeJ7KlXtlU26AqKxmOX5vJifzxi0vdsbQMbuoBcRiFOgIAmyK4lSBB9wPZLhRawceglh9MhYREhMALFyt+mKvBiGOIRRVOp5WZaenIJoCnKFEiHt0hwWCZMAhfkUhgZL1HY\\u002f+My5zJ4PBQFWd6cBk20HJmllBgA4iVo9gEpQEGWkEaS4vFqs1pt2O9RneQTZpGGRZCPY\\u002fowq8TMvmORTwWqiEtxQWGqJapSscJzPC1c4OAWLiECIxanAeVrM68WsjmPcrNqhEyS3KaAgVaharh5lJfNMJ4KybVVvWp85RfSZsyH2uJEaTSXFWNiLGZPI+JFdsXhWBYigTIBGxFHHcpY3mzb2ajehmh5qUgAQqACHRDjF5xt0MGs6h2oEiIid90riS8+ehnagqBIiMZOnLM9UBKKFy1Sp3fe7bXN2UbMnETCTQEE6udmcQUAKQHMcgGbXMRORsnfAEUjD3P5N7jQVFaDk4mPjFGcJTAAgIl\\u002f6wMHBESFDpo5X9\\u002fvLx0s4VVjmHuWpEkiTtBNhSElwkvNJNQXShvSoIbbCIFFWyrhYVNmsEKdCIqxwQEbkmTN2nmazMuP83ev1dtVJUDFbgWkhBUxKpFRRJeV+P4YQyiIH4DKnCRRMlcqwPVE+xdREh0OyMjeNhkEK8pRV3lWOc1aHalbFKLv1joRhhfXIjGCoJO0O7QCIKE0vOMBkIClUlR2W1wvxQrvtlmyAgohVdBxHMDnPJ\\u002fpBlSRiDCHLnD3AN4FFR5uUbEdYQR4Y9rFtm7KqiECeuHBMFjIWNxbsB61N1lSnvkEHbFOGaJKMBLcqNAgiQWi9WtfzqpiVykKsUEzfYGU7U2aTqa3T60NKWJIqmAgkpCS90G67O6BPChCJqpmTtAeIkKZxAyh1t8Cl1MmMt2sE6XV7sy3nuS+9d14Z6c\\u002fwbeTEIb2lunpg\\u002fE3tyYwGkMSotU5lwC4AERIVQvv1np2bX87AKQmmtEqoH19gR6ldFSndJ2lETEAMMQzxdHccShAVUNroUEKKWQUhbdAeJJDZPll4YA4QKe03LTtXVIXLGR5gQGEKP4RiYpk4KWD6qpiFpvrJJHCANMGmE3ykyqCM4GW+qIdm3Lzb6JiGEnCYKjDpMjE8tqewgyWM+VAJToVV6ACWqaXEaf6hRJM5ae1jBkz22UBSJftcBgolwrALoQnVLCfPmMrBwUYbNHGaGpLNdi1pa2rbZbXXqdM3SQElM4+9Q0Hzq7rfD7v7RsbR2FiJgOrkZDMsDT802ttEBECQAoiNg4k7DDauh97HaEgAJjH2Np2SAsxApO3NvnAuKzMipBVs6nZkfyo26TgJOsqaOgMJpSTmhCi9JBFk3DzltZ+d12GI4y7EPkKJwGxbGqdDAYMquQPJbTrhZ0oSwRHzpAtBrfgfPHw4nRjaHoIS1FxoWUmwdhBADtzcdzpqNS\\u002fZ80GJE81ODycNk44HnJJSx37WeeqUsDleAkCTV8hYCrQ4y1zGqze7ZtXJoCRMmGYtPJhJzEpblykk7TeYUUSAVecHn+gdwi9xsxcCkZL9UagE1agJ1cSVSJUUrPBE+9v+5qv7elm4uRdKf9JpWEyhqgfmwEm0PQDqcJjccexxYuHUdLhupTZhpRAiqhalc05H7XYdoiqOiXTsnJqmSNEkGICqqpqVKohMlCDBEeujRketiaEkg8hgapgohWq3C5\\u002f\\u002f6Hb9ut287X76w5ezMq\\u002fOcnWanldRq3amQpo6gMlEMzYpcaDTY2BKyKSnwTdFCCzcSNN0RIBaBhER+YLr8wqE0Mf13U4GISLgn0DdWD9stZ4AlJhc7v1p20knMy+pQ0Q66tiMMQgz4iD5LCOvDJVeVl\\u002fvPvvbd9m3SQmLeXn+YsmFF5UpbI+8yV5UQfYKKNS2B+yfybR2AKpq7Qe8jpym8HvYCkABsskGCkfled7v1JEbwnj75u7scpnX2aHHyTgTotDJamMF2NNW5Mhby0HMA1KFFSjSYeh0FOZMRWXQXobiPEOk28\\u002fW2oRHi6LK2Be5f1xls0zIYk6N8fQ7ERFSFiChdvQLYDCoHj5Aw8PReKBnkqEATfAZzodhnLPLGUFns6qaFZvVbiZ1PS8lffHOhIoNnUYBKgomJpCmz1kpfQnGgfmkR3q3gQr43KuKRpVBNagEGXN098Nf\\u002fdtf7N\\u002furp8snn9wud5uXjx\\u002frARAVSwoEjT2BoWSuY6Q9iw0dUmCzGRrZPP0w5gCkp6HuSPBlerMVBoBEMgisqhLRB2HwXt\\u002ffrlsNm3PLq89CGRF4jgokYFISkMT9qumrAtXsD2tfFT29C2lNykpfOYFMuxGUjjPqoJe23fd6tXu3evbuvRjE5ZPald7taHOIDpyS0cKWAgIrMQQDD86aEzEmBA8QSphk4js0uHyKVJTWgMWuHAKhucshkigcl6Mw0gtZaUDp8fV0iCDDoCCwHHAftXoKI6h6UkgS4SjKgTYSDue3h2URCHCwpVTUh9pUbqnl\\u002fMZ+89\\u002f\\u002fGp2WUv6ohTTeeKXToyn\\u002fQAAJf1wihQOqExsoImOTROD6TWdpwRUpLqj5hZVQEnhiL2LKuTgvBv7sWv6OE63Q2lDJ3mEwdpru2p0EG\\u002ffmAP7wp3EVtUMShYdNIACokpEWZFRzq5w+Tz3mX\\u002f52Z1GvTxfrFZ7Zi2rDGqreUyTIGhieTAm0QTlVLqPk7FR0mr6cxFTA4Ce7DUeF9X2Q4Do2I5jN0qc0E1XSVVBIEcAecdZ7iVo2\\u002fSHWyJVe5RZoYidtKs+bDofNC+8zbX8T6h\\u002fGlYTcgAEyoXjkrPSM9PYBRH98KOnVZHPKnr+\\u002fBLEJslCg4gSEBMPIiTFJ1kHkYmSKOPwAKMjKZDijJCcARwkELX3Q7vqpj94AZDcZqfO25cUgpi8d6zc7nsZxZZTCiVQ6OPYjHHfD7d7BHHeASRR2KRPXIFDRCVl0uXkTVKXO84ZcAz+8KOr2G1De79cll3QcVSAUv3+J8gwhAKYEvIBnZwf0mE6PVHrhA5s7ICA0I7SjRn7AzsLbFV7EFCJyXmnBIWC4L3z7JtdE\\u002fqgUVlJg477QQdFL92mKatSSUQi2VLo4GfAnPbQl9P+HoFUlQhKEAIBcbuj5t1ZHe833RevN2OIICiYHrBUVaiqmqvNCFUzQpGSigDoZPqEd0pbCx4LIjqEusJGkw1LUaxgHVSh6kCCw7c3MtvHJEQAMbnMgQGGQp1jx1nfBOmFAmkfaUDspN\\u002f2EoVKQk6ucq7ynuhYA3Ryh4FyIEq\\u002f4MPnvCKrt836ZlfPlpxVm7zPz3LnCVM4Gi8yTaFTg\\u002f2t+YN7LENzkvxfohP0yWY4YEJTAWsSgDzzzFNOh61LNViRnJF4MHzh4iBRokTJs6wX6fcjBYq9aCMuoN\\u002f3LsvyeYGaI1TTc\\u002fATD1WFrX8MQQISUgQFSFNwKVRkc9vdbCm05XvXZ8+u5eJXrnzOQQMwfedKGpzIStg3gcJBjrlngveEHgT+oQ0TVAAspxQAfM5nL+aqYkFABDK8ElKk0HSi9m0ziBqjBO9YI3TQ\\u002fc1+WO0XZUHqsnkGB7HPGw536pNZaaV4UjHIdAFNktQ2TWm29HmdvXy7\\u002fcWXK5d5l1HqSACZlic0sTFGeiLh0E3VriRYicg2Cabrh37p90GLsTY8nHPeJzsM0tSdABhDndpczr7yzKxRyYEELuqwbV7\\u002f4tXmbr24mtnDwHbn9nDXIf1OzA8qTReIwMxm+eKyqi+Lx8+Wl9e1aFTY9phBBUCVAE0nBsLEUq3pgcUEWC4dfqaIT\\u002fmUaALmIdHhx1ibr6YwOiW1\\u002fFGFQkmVlD3ldZFVOXsmR977s+VZ6XIKgUiZ2eqiWhomJgAINq0flDuoO\\u002fWYRJOyo6vLap5RWRdvb9f1rJwQIbU1sUWgjTpBRs0kBZDS4QGRRaAZSSbY0D2QppfE++TCQVMCUqjSYTBB9RS8AwfAq6997JlIuzDWs0pUKcTN3bZ6f0lp7kT6liOyzykAItLDrf7EdhJwtLhfd\\u002f2++fLd5m\\u002f+4uf1sr7brj\\u002f63Q9EFJS0UdJjRGiy+pSIoEpEipSeE6WTb\\u002fQ3bRQA6IRtumQnR1BOEKSTCybVriaGRAyFqipBGaIxqzKKTn2mMrTbKKNQ5pQU9uWgBFgSTXF\\u002fdMaR6KCkAirklk8vosMvvrg\\u002fu1x+9MmTLLe9vsQiaWgv\\u002fwipFDYA1CaqBAURgWArChiO34ByMlwBkEmxllQcTmA6jjugSkAqhocLJ9zZky+9q1z0Or86H4U+++xdtxpoUnhKQwUeqqWmjClwhMn6UDn3cZBHH55XF\\u002fmzD5ZPnszGPtJIzvn0OMPJ8IfWAkjCjSmdZJnal19aD7t+MvhQAA3PE7L2SZQqrPxNF5MxljA25RNUYWmEEyGUU35eyE67bN+0zWo3rl5vyutCcyXA\\u002fg+Pb9DBkAMXRaqLBANVtFmNV2ez\\u002f\\u002fV\\u002f+2MvNHRd7MPYweVOPZ0wgJpWiVVy6lRaLKjTJE8AlFRUBRJBUHsa5ahL4mIRcmIipuNDoyoh2XXS8SEu34x3BUggeZWHEDnnrMiyTpr1vt8ts7NCmWxHBWQQQJNLbEmVeKQqpFCCg4IE25v23\\u002f+bv39ysdxu2tXt7jd\\u002f48XTT69kiDGI91BK6BwRs+N0bvXSEo2PRUUpjCEMAeCxGx2zy9nnjp2zD5UJ9m\\u002fSDAnsIx3hOZEGYoKaPqedzTRLAAs3ayJlT0pc1LPrrKiKQlulmlCmNWLqb9wP2iSnqn1Wb5VMSHXY99LGH\\u002fyzTx6dz25eb9++2Q7N8ParOxpJhshT0tpQgI5pBqiqagyiyaCUWgRFGIOKOucAlHWRFz4MYjk1xZL9JMtPDE8NiiNCqdloik59OO5g3xEpkJKqU\\u002fJZuaifPb8QYH\\u002fToBEO6m2QdZ9erMluH0ihRNDpBkiiUoCI1IuSov7+73\\u002fah3B+NgsaWXjcj0WZc25P4E15diAlIsQgu5ttnvlyWVD6RhqEMYYheO8VYCbvud13IHLewSboY2E+NfgB\\u002f2Q6pU6pZTq2BDk0ntLDRCD21A1RFOTZe7d6uwkxnD9feCt1iWHKRQA2F5FYuKnVKpYg0kUdNYPfr9u84sXVRbPe+4xzykIbSKhb9dVlBWdsFFYcFHagSs75jD1GDG0oZznsO3QEEpU8gUDMRAiD1MuSmBRTRZvIlLT8wWQAgAk7woM8nArJRNMZ0REfAiksFxXkqGn7vgt\\u002f+7OX8\\u002fPin\\u002f\\u002f2t+5u7hqXPt1R2DC1yghAldSeUCAQBXTbfmjHjD1Funu5++If3o5dPHtSfvvXXzgmURnaEAfJSl+KjpV3M5\\u002fKngVssixh5gqOjWivIwdfORCcY8s5EFRFhNj5LHNqj6EdJgarLgAs1q316GOdrMcU1SegWfPJ2fFEDa\\u002fERKEhxCGM1XlVnFe9RMfZzddr2yg4SrNDG0dQFu73Ydz0490eTdzswnrVfvnZzXrV5mUxyzDe7NlThC6Kohva3ZttrotGw+zJwvCadMHkOwWonJfN2GqUoY1DoKLKmJx3HoCqiCqRIwYx6bH+HzhNBxPzSfcH7ROMxysTPWyw\\u002fmRHDAgRxk7fvlyd+ewP\\u002fuDb4rjbjv\\u002fwxf1HLy59qkipVikRMYiUpNfNux2NPLahe7fffvEGwzD0QuSeVPx0fqaKRUbdyzvnWdkhH5gQ1\\u002fv9EPKzqhl1\\u002fsHS1V6Ak4whgEiJHIpl0e96KCA6NGMc+7wowhjT3q2D8xQlkv1FjdmuACb3W1BNhqeYNbvNRQbhNxcIdnbEyxJJoeZMEFTp5ed3b35+d\\u002f3r7+3vmyzP+mYIMnZtR\\u002fvdFgCDCRy60Kzbfje2K0s6B9U8L7znOIxEbhzGvuvKvEDUze06bFvuRhFs23i9rMoqB+lu27iqmL9\\u002ftvz4qno8czULpQ+xLUyS9URjN8YQYhQGq4j3WYzRbu2JOUqoZmXaFjEg\\u002fgloDBKksnXM1tR8pOPoE\\u002fCnBYAlNFmL+j\\u002f\\u002f3\\u002f8hfNWfXc5ev9198OHZ\\u002fLqsFoUIfIYMoL7pQ9cPu3HYD\\u002f1u9AoizpwrykIJXTf0ceRcy6uyKmfVvCKPJ\\u002f45Wtl8sfrz\\u002f\\u002fiTH\\u002f708\\u002f\\u002f5v\\u002fvtEOVsNhfQvu058O6m61WXT2d55YWgBIFFsH1KIq5wrmCNCGOoimocIwaIKjHlhQ+RiOhhaT6QFVZMQZTqWNqK+8ZqChN6\\u002f8VTggUh1CaxLKJaFi5zYcR6vbt8XleLIrL8f\\u002fJmWWMFq\\u002fFtAAAAAElFTkSuQmCC\",\"type\":\"image\",\"xaxis\":\"x\",\"yaxis\":\"y\",\"hovertemplate\":\"x: %{x}\\u003cbr\\u003ey: %{y}\\u003cextra\\u003e\\u003c\\u002fextra\\u003e\"}],                        {\"template\":{\"data\":{\"histogram2dcontour\":[{\"type\":\"histogram2dcontour\",\"colorbar\":{\"outlinewidth\":0,\"ticks\":\"\"},\"colorscale\":[[0.0,\"#0d0887\"],[0.1111111111111111,\"#46039f\"],[0.2222222222222222,\"#7201a8\"],[0.3333333333333333,\"#9c179e\"],[0.4444444444444444,\"#bd3786\"],[0.5555555555555556,\"#d8576b\"],[0.6666666666666666,\"#ed7953\"],[0.7777777777777778,\"#fb9f3a\"],[0.8888888888888888,\"#fdca26\"],[1.0,\"#f0f921\"]]}],\"choropleth\":[{\"type\":\"choropleth\",\"colorbar\":{\"outlinewidth\":0,\"ticks\":\"\"}}],\"histogram2d\":[{\"type\":\"histogram2d\",\"colorbar\":{\"outlinewidth\":0,\"ticks\":\"\"},\"colorscale\":[[0.0,\"#0d0887\"],[0.1111111111111111,\"#46039f\"],[0.2222222222222222,\"#7201a8\"],[0.3333333333333333,\"#9c179e\"],[0.4444444444444444,\"#bd3786\"],[0.5555555555555556,\"#d8576b\"],[0.6666666666666666,\"#ed7953\"],[0.7777777777777778,\"#fb9f3a\"],[0.8888888888888888,\"#fdca26\"],[1.0,\"#f0f921\"]]}],\"heatmap\":[{\"type\":\"heatmap\",\"colorbar\":{\"outlinewidth\":0,\"ticks\":\"\"},\"colorscale\":[[0.0,\"#0d0887\"],[0.1111111111111111,\"#46039f\"],[0.2222222222222222,\"#7201a8\"],[0.3333333333333333,\"#9c179e\"],[0.4444444444444444,\"#bd3786\"],[0.5555555555555556,\"#d8576b\"],[0.6666666666666666,\"#ed7953\"],[0.7777777777777778,\"#fb9f3a\"],[0.8888888888888888,\"#fdca26\"],[1.0,\"#f0f921\"]]}],\"heatmapgl\":[{\"type\":\"heatmapgl\",\"colorbar\":{\"outlinewidth\":0,\"ticks\":\"\"},\"colorscale\":[[0.0,\"#0d0887\"],[0.1111111111111111,\"#46039f\"],[0.2222222222222222,\"#7201a8\"],[0.3333333333333333,\"#9c179e\"],[0.4444444444444444,\"#bd3786\"],[0.5555555555555556,\"#d8576b\"],[0.6666666666666666,\"#ed7953\"],[0.7777777777777778,\"#fb9f3a\"],[0.8888888888888888,\"#fdca26\"],[1.0,\"#f0f921\"]]}],\"contourcarpet\":[{\"type\":\"contourcarpet\",\"colorbar\":{\"outlinewidth\":0,\"ticks\":\"\"}}],\"contour\":[{\"type\":\"contour\",\"colorbar\":{\"outlinewidth\":0,\"ticks\":\"\"},\"colorscale\":[[0.0,\"#0d0887\"],[0.1111111111111111,\"#46039f\"],[0.2222222222222222,\"#7201a8\"],[0.3333333333333333,\"#9c179e\"],[0.4444444444444444,\"#bd3786\"],[0.5555555555555556,\"#d8576b\"],[0.6666666666666666,\"#ed7953\"],[0.7777777777777778,\"#fb9f3a\"],[0.8888888888888888,\"#fdca26\"],[1.0,\"#f0f921\"]]}],\"surface\":[{\"type\":\"surface\",\"colorbar\":{\"outlinewidth\":0,\"ticks\":\"\"},\"colorscale\":[[0.0,\"#0d0887\"],[0.1111111111111111,\"#46039f\"],[0.2222222222222222,\"#7201a8\"],[0.3333333333333333,\"#9c179e\"],[0.4444444444444444,\"#bd3786\"],[0.5555555555555556,\"#d8576b\"],[0.6666666666666666,\"#ed7953\"],[0.7777777777777778,\"#fb9f3a\"],[0.8888888888888888,\"#fdca26\"],[1.0,\"#f0f921\"]]}],\"mesh3d\":[{\"type\":\"mesh3d\",\"colorbar\":{\"outlinewidth\":0,\"ticks\":\"\"}}],\"scatter\":[{\"fillpattern\":{\"fillmode\":\"overlay\",\"size\":10,\"solidity\":0.2},\"type\":\"scatter\"}],\"parcoords\":[{\"type\":\"parcoords\",\"line\":{\"colorbar\":{\"outlinewidth\":0,\"ticks\":\"\"}}}],\"scatterpolargl\":[{\"type\":\"scatterpolargl\",\"marker\":{\"colorbar\":{\"outlinewidth\":0,\"ticks\":\"\"}}}],\"bar\":[{\"error_x\":{\"color\":\"#2a3f5f\"},\"error_y\":{\"color\":\"#2a3f5f\"},\"marker\":{\"line\":{\"color\":\"#E5ECF6\",\"width\":0.5},\"pattern\":{\"fillmode\":\"overlay\",\"size\":10,\"solidity\":0.2}},\"type\":\"bar\"}],\"scattergeo\":[{\"type\":\"scattergeo\",\"marker\":{\"colorbar\":{\"outlinewidth\":0,\"ticks\":\"\"}}}],\"scatterpolar\":[{\"type\":\"scatterpolar\",\"marker\":{\"colorbar\":{\"outlinewidth\":0,\"ticks\":\"\"}}}],\"histogram\":[{\"marker\":{\"pattern\":{\"fillmode\":\"overlay\",\"size\":10,\"solidity\":0.2}},\"type\":\"histogram\"}],\"scattergl\":[{\"type\":\"scattergl\",\"marker\":{\"colorbar\":{\"outlinewidth\":0,\"ticks\":\"\"}}}],\"scatter3d\":[{\"type\":\"scatter3d\",\"line\":{\"colorbar\":{\"outlinewidth\":0,\"ticks\":\"\"}},\"marker\":{\"colorbar\":{\"outlinewidth\":0,\"ticks\":\"\"}}}],\"scattermapbox\":[{\"type\":\"scattermapbox\",\"marker\":{\"colorbar\":{\"outlinewidth\":0,\"ticks\":\"\"}}}],\"scatterternary\":[{\"type\":\"scatterternary\",\"marker\":{\"colorbar\":{\"outlinewidth\":0,\"ticks\":\"\"}}}],\"scattercarpet\":[{\"type\":\"scattercarpet\",\"marker\":{\"colorbar\":{\"outlinewidth\":0,\"ticks\":\"\"}}}],\"carpet\":[{\"aaxis\":{\"endlinecolor\":\"#2a3f5f\",\"gridcolor\":\"white\",\"linecolor\":\"white\",\"minorgridcolor\":\"white\",\"startlinecolor\":\"#2a3f5f\"},\"baxis\":{\"endlinecolor\":\"#2a3f5f\",\"gridcolor\":\"white\",\"linecolor\":\"white\",\"minorgridcolor\":\"white\",\"startlinecolor\":\"#2a3f5f\"},\"type\":\"carpet\"}],\"table\":[{\"cells\":{\"fill\":{\"color\":\"#EBF0F8\"},\"line\":{\"color\":\"white\"}},\"header\":{\"fill\":{\"color\":\"#C8D4E3\"},\"line\":{\"color\":\"white\"}},\"type\":\"table\"}],\"barpolar\":[{\"marker\":{\"line\":{\"color\":\"#E5ECF6\",\"width\":0.5},\"pattern\":{\"fillmode\":\"overlay\",\"size\":10,\"solidity\":0.2}},\"type\":\"barpolar\"}],\"pie\":[{\"automargin\":true,\"type\":\"pie\"}]},\"layout\":{\"autotypenumbers\":\"strict\",\"colorway\":[\"#636efa\",\"#EF553B\",\"#00cc96\",\"#ab63fa\",\"#FFA15A\",\"#19d3f3\",\"#FF6692\",\"#B6E880\",\"#FF97FF\",\"#FECB52\"],\"font\":{\"color\":\"#2a3f5f\"},\"hovermode\":\"closest\",\"hoverlabel\":{\"align\":\"left\"},\"paper_bgcolor\":\"white\",\"plot_bgcolor\":\"#E5ECF6\",\"polar\":{\"bgcolor\":\"#E5ECF6\",\"angularaxis\":{\"gridcolor\":\"white\",\"linecolor\":\"white\",\"ticks\":\"\"},\"radialaxis\":{\"gridcolor\":\"white\",\"linecolor\":\"white\",\"ticks\":\"\"}},\"ternary\":{\"bgcolor\":\"#E5ECF6\",\"aaxis\":{\"gridcolor\":\"white\",\"linecolor\":\"white\",\"ticks\":\"\"},\"baxis\":{\"gridcolor\":\"white\",\"linecolor\":\"white\",\"ticks\":\"\"},\"caxis\":{\"gridcolor\":\"white\",\"linecolor\":\"white\",\"ticks\":\"\"}},\"coloraxis\":{\"colorbar\":{\"outlinewidth\":0,\"ticks\":\"\"}},\"colorscale\":{\"sequential\":[[0.0,\"#0d0887\"],[0.1111111111111111,\"#46039f\"],[0.2222222222222222,\"#7201a8\"],[0.3333333333333333,\"#9c179e\"],[0.4444444444444444,\"#bd3786\"],[0.5555555555555556,\"#d8576b\"],[0.6666666666666666,\"#ed7953\"],[0.7777777777777778,\"#fb9f3a\"],[0.8888888888888888,\"#fdca26\"],[1.0,\"#f0f921\"]],\"sequentialminus\":[[0.0,\"#0d0887\"],[0.1111111111111111,\"#46039f\"],[0.2222222222222222,\"#7201a8\"],[0.3333333333333333,\"#9c179e\"],[0.4444444444444444,\"#bd3786\"],[0.5555555555555556,\"#d8576b\"],[0.6666666666666666,\"#ed7953\"],[0.7777777777777778,\"#fb9f3a\"],[0.8888888888888888,\"#fdca26\"],[1.0,\"#f0f921\"]],\"diverging\":[[0,\"#8e0152\"],[0.1,\"#c51b7d\"],[0.2,\"#de77ae\"],[0.3,\"#f1b6da\"],[0.4,\"#fde0ef\"],[0.5,\"#f7f7f7\"],[0.6,\"#e6f5d0\"],[0.7,\"#b8e186\"],[0.8,\"#7fbc41\"],[0.9,\"#4d9221\"],[1,\"#276419\"]]},\"xaxis\":{\"gridcolor\":\"white\",\"linecolor\":\"white\",\"ticks\":\"\",\"title\":{\"standoff\":15},\"zerolinecolor\":\"white\",\"automargin\":true,\"zerolinewidth\":2},\"yaxis\":{\"gridcolor\":\"white\",\"linecolor\":\"white\",\"ticks\":\"\",\"title\":{\"standoff\":15},\"zerolinecolor\":\"white\",\"automargin\":true,\"zerolinewidth\":2},\"scene\":{\"xaxis\":{\"backgroundcolor\":\"#E5ECF6\",\"gridcolor\":\"white\",\"linecolor\":\"white\",\"showbackground\":true,\"ticks\":\"\",\"zerolinecolor\":\"white\",\"gridwidth\":2},\"yaxis\":{\"backgroundcolor\":\"#E5ECF6\",\"gridcolor\":\"white\",\"linecolor\":\"white\",\"showbackground\":true,\"ticks\":\"\",\"zerolinecolor\":\"white\",\"gridwidth\":2},\"zaxis\":{\"backgroundcolor\":\"#E5ECF6\",\"gridcolor\":\"white\",\"linecolor\":\"white\",\"showbackground\":true,\"ticks\":\"\",\"zerolinecolor\":\"white\",\"gridwidth\":2}},\"shapedefaults\":{\"line\":{\"color\":\"#2a3f5f\"}},\"annotationdefaults\":{\"arrowcolor\":\"#2a3f5f\",\"arrowhead\":0,\"arrowwidth\":1},\"geo\":{\"bgcolor\":\"white\",\"landcolor\":\"#E5ECF6\",\"subunitcolor\":\"white\",\"showland\":true,\"showlakes\":true,\"lakecolor\":\"white\"},\"title\":{\"x\":0.05},\"mapbox\":{\"style\":\"light\"}}},\"xaxis\":{\"anchor\":\"y\",\"domain\":[0.0,1.0]},\"yaxis\":{\"anchor\":\"x\",\"domain\":[0.0,1.0]},\"margin\":{\"t\":60}},                        {\"responsive\": true}                    ).then(function(){\n",
              "                            \n",
              "var gd = document.getElementById('e3148140-f250-42f1-9b69-af02499cbb3e');\n",
              "var x = new MutationObserver(function (mutations, observer) {{\n",
              "        var display = window.getComputedStyle(gd).display;\n",
              "        if (!display || display === 'none') {{\n",
              "            console.log([gd, 'removed!']);\n",
              "            Plotly.purge(gd);\n",
              "            observer.disconnect();\n",
              "        }}\n",
              "}});\n",
              "\n",
              "// Listen for the removal of the full notebook cells\n",
              "var notebookContainer = gd.closest('#notebook-container');\n",
              "if (notebookContainer) {{\n",
              "    x.observe(notebookContainer, {childList: true});\n",
              "}}\n",
              "\n",
              "// Listen for the clearing of the current output cell\n",
              "var outputEl = gd.closest('.output');\n",
              "if (outputEl) {{\n",
              "    x.observe(outputEl, {childList: true});\n",
              "}}\n",
              "\n",
              "                        })                };                            </script>        </div>\n",
              "</body>\n",
              "</html>"
            ]
          },
          "metadata": {}
        }
      ]
    },
    {
      "cell_type": "markdown",
      "source": [
        "# $a(\\theta)$: Attention Map for Down-scaled Input Image"
      ],
      "metadata": {
        "id": "5LrX-MciFoXX"
      }
    },
    {
      "cell_type": "code",
      "source": [
        "\"\"\"\n",
        "This is the implementation of a(\\theta) defined by the paper appendix with some modifications due to\n",
        "a lack of details...\n",
        "\"\"\"\n",
        "class step_1_attention_lenet(nn.Module):\n",
        "  def __init__(self):\n",
        "    # Superconstructor to inherit nn.Module Properties\n",
        "    super(step_1_attention_lenet, self).__init__()\n",
        "    # Layers\n",
        "    self.conv1 = nn.Conv2d(3, 8, 3, 1, 1)\n",
        "    self.conv2 = nn.Conv2d(8, 8, 3, 1, 1)\n",
        "    self.conv3 = nn.Conv2d(8, 1, 3, 1, 1)\n",
        "    self.average_pooling = nn.AvgPool2d(1)\n",
        "  def forward(self, x):\n",
        "    x = F.tanh(self.conv1(x))\n",
        "    x = F.tanh(self.conv2(x))\n",
        "    x = F.tanh(self.conv3(x))\n",
        "    x = self.average_pooling(x)\n",
        "    x = F.softmax(x, dim = 2)\n",
        "    return x"
      ],
      "metadata": {
        "id": "d4rr4kIyFxo_"
      },
      "execution_count": null,
      "outputs": []
    },
    {
      "cell_type": "markdown",
      "source": [
        "# $b(\\theta)$: Attention Map for Attention Map"
      ],
      "metadata": {
        "id": "l7F6wRNLFyUA"
      }
    },
    {
      "cell_type": "code",
      "source": [
        "\"\"\"\n",
        "This is the implementation of b(\\theta) defined by the paper appendix with some modifications due to\n",
        "a lack of details...\n",
        "\"\"\"\n",
        "class step_2_attention_lenet(nn.Module):\n",
        "  def __init__(self):\n",
        "    # Superconstructor to inherit nn.Module Properties\n",
        "    super(step_2_attention_lenet, self).__init__()\n",
        "    self.conv1 = nn.Conv2d(3, 8, 3, 1, 1)\n",
        "    self.conv2 = nn.Conv2d(8, 8, 3, 1, 1)\n",
        "    self.conv3 = nn.Conv2d(8, 1, 3, 1, 1)\n",
        "  def forward(self, x):\n",
        "    x = F.tanh(self.conv1(x))\n",
        "    x = F.tanh(self.conv2(x))\n",
        "    x = F.softmax(self.conv3(x), dim = 2)\n",
        "    return x"
      ],
      "metadata": {
        "id": "lei7HesrGHbi"
      },
      "execution_count": null,
      "outputs": []
    },
    {
      "cell_type": "markdown",
      "source": [
        "## $f(\\theta):$ Feature Extractor"
      ],
      "metadata": {
        "id": "Z3IdgHBoD-IV"
      }
    },
    {
      "cell_type": "code",
      "source": [
        "class step_2_feature_extraction(nn.Module):\n",
        "  def __init__(self):\n",
        "    # Superconstructor to inherit nn.Module Properties\n",
        "    super(step_2_feature_extraction, self).__init__()\n",
        "    self.conv1 = nn.Conv2d(32, 32, 7, 1, 3)\n",
        "    self.conv2 = nn.Conv2d(32, 32, 3, 1, 1)\n",
        "    self.conv3 = nn.Conv2d(32, 32, 3, 1, 1)\n",
        "    self.average_pooling = nn.AvgPool2d(1)\n",
        "  def forward(self, x):\n",
        "    x = F.relu(self.conv1(x))\n",
        "    x = F.relu(self.conv2(x))\n",
        "    x = F.relu(self.conv3(x))\n",
        "    x = self.average_pooling(x)\n",
        "    return x"
      ],
      "metadata": {
        "id": "dgISJog5D6w4"
      },
      "execution_count": null,
      "outputs": []
    },
    {
      "cell_type": "markdown",
      "source": [
        "## Classification Module $g(\\theta)$"
      ],
      "metadata": {
        "id": "06FQvXHEEGRe"
      }
    },
    {
      "cell_type": "code",
      "source": [
        "class step_2_classification(nn.Module):\n",
        "  def __init__(self):\n",
        "    # Superconstructor to inherit nn.Modules\n",
        "    super(step_2_classification, self).__init__()\n",
        "    self.fc = nn.Linear(32, 2)\n",
        "  def forward(self, x):\n",
        "    return self.fc(x)"
      ],
      "metadata": {
        "id": "TzO_GSvsEJB4"
      },
      "execution_count": null,
      "outputs": []
    },
    {
      "cell_type": "markdown",
      "source": [
        "# Zoom-In Network"
      ],
      "metadata": {
        "id": "8iHUlwcSXD4f"
      }
    },
    {
      "cell_type": "code",
      "source": [
        "class AttentionNetwork(nn.Module):\n",
        "    def __init__(self):\n",
        "        super(AttentionNetwork, self).__init__()\n",
        "        # Input has images of dimension (125x 125)\n",
        "        self.conv1 = nn.Conv2d(3, 32, kernel_size=3, padding=1)\n",
        "        self.conv2 = nn.Conv2d(32, 64, kernel_size=3, padding=1)\n",
        "        self.conv3 = nn.Conv2d(64, 100, kernel_size=3, padding=1)\n",
        "        self.fc1 = nn.Linear(100 * 25 * 25, 512)\n",
        "        self.fc2 = nn.Linear(512, 2)  # 2 for binary classification\n",
        "\n",
        "        # Attention Network\n",
        "        self.attention = nn.Sequential(\n",
        "            nn.Linear(100 * 25 * 25, 512),\n",
        "            nn.Tanh(),\n",
        "            nn.Linear(512, 1),\n",
        "            nn.Softmax(dim=1)\n",
        "        )\n",
        "\n",
        "    def forward(self, x):\n",
        "        x = torch.relu(self.conv1(x))\n",
        "        # output_size(x) = (100 - 3 + 2*1) / 1 + 1 = 100\n",
        "        x = torch.max_pool2d(x, kernel_size=2, stride=2)\n",
        "        # output_size(x) = (100 - 2 + 2*0)/2 + 1 = 50\n",
        "        x = torch.relu(self.conv2(x))\n",
        "        # output_size = (50 - 3 + 2 * 1)/1 + 1 = 50\n",
        "        x = torch.max_pool2d(x, kernel_size=2, stride=2)\n",
        "        # output_size = (50 - 2 + 2*0)/2 + 1 = 25\n",
        "        x = torch.relu(self.conv3(x))\n",
        "        # output_size = 25\n",
        "\n",
        "        # Calculate attention weights\n",
        "        attention_weights = self.attention(x.view(x.size(0), -1))\n",
        "\n",
        "        # Apply attention\n",
        "        x = x.view(x.size(0), -1) * attention_weights\n",
        "\n",
        "        x = torch.relu(self.fc1(x))\n",
        "        x = self.fc2(x)\n",
        "        return x"
      ],
      "metadata": {
        "id": "eOdHPHr3XFnw"
      },
      "execution_count": null,
      "outputs": []
    },
    {
      "cell_type": "code",
      "source": [
        "# Initialize your model\n",
        "model = AttentionNetwork()\n",
        "\n",
        "# Define loss function and optimizer\n",
        "criterion = nn.CrossEntropyLoss()\n",
        "optimizer = optim.Adam(\n",
        "    model.parameters(),\n",
        "    betas = (0.9, 0.999),\n",
        "    lr = 0.001,\n",
        "    weight_decay=1e-5\n",
        "    )\n",
        "scheduler = ExponentialLR(optimizer, gamma=0.9)\n",
        "\n",
        "# Training loop\n",
        "epochs = 1\n",
        "\n",
        "for epoch in tqdm(range(epochs)):\n",
        "    model.train()\n",
        "    running_loss = 0.0\n",
        "    correct = 0\n",
        "    print(f'Epoch: {epoch}')\n",
        "    for image, label in tqdm(loaders['train']):\n",
        "        image, label = image.to(device), label.to(device)\n",
        "        optimizer.zero_grad()\n",
        "        output = model(image)\n",
        "        loss = criterion(output, label)\n",
        "        loss.backward()\n",
        "        optimizer.step()\n",
        "        running_loss += loss.item()\n",
        "        _, predicted = torch.max(output, 1)\n",
        "        correct += (predicted == label).sum().item()\n",
        "    scheduler.step()\n",
        "    print(f\"Epoch {epoch+1}/{epochs}, Loss: {round(running_loss/len(loaders['train']), 2)}\")\n",
        "    print(f\"Accuracy:\\n\\tCorrect: {correct}\\n\\tSamples: {100}\\n\\tScore: {round((correct / 100), 2) * 100}\")"
      ],
      "metadata": {
        "id": "0UEvjuyAvmox"
      },
      "execution_count": null,
      "outputs": []
    }
  ]
}